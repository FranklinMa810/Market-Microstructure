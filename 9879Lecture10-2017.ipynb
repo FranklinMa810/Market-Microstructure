{
 "cells": [
  {
   "cell_type": "markdown",
   "metadata": {
    "slideshow": {
     "slide_type": "slide"
    }
   },
   "source": [
    "## MTH 9879 Market Microstructure Models,    Spring 2017\n",
    "\n",
    "<p>\n",
    "\n",
    "### Lecture 10: Optimal trading strategies: Transient market impact\n",
    "\n",
    "<p>\n",
    "Jim Gatheral   \n",
    "Department of Mathematics   \n",
    "  \n",
    "  \n",
    "<h3><img src=\"http://mfe.baruch.cuny.edu/wp-content/uploads/2016/04/MFE-Logo.jpg\" align = \"right\" width=500></h3>\n",
    "\n",
    "$$\n",
    "\\newcommand{\\bea}{\\begin{eqnarray}}\n",
    "\\newcommand{\\eea}{\\end{eqnarray}}\n",
    "\\newcommand{\\supp}{\\mathrm{supp}}\n",
    "\\newcommand{\\F}{\\mathcal{F} }\n",
    "\\newcommand{\\cF}{\\mathcal{F} }\n",
    "\\newcommand{\\E}{\\mathbb{E} }\n",
    "\\newcommand{\\Eof}[1]{\\mathbb{E}\\left[ #1 \\right]}\n",
    "\\def\\Cov{{ \\mbox{Cov} }}\n",
    "\\def\\Var{{ \\mbox{Var} }}\n",
    "\\newcommand{\\1}{\\mathbf{1} }\n",
    "\\newcommand{\\p}{\\partial}\n",
    "\\newcommand{\\PP}{\\mathbb{P} }\n",
    "\\newcommand{\\Pof}[1]{\\mathbb{P}\\left[ #1 \\right]}\n",
    "\\newcommand{\\QQ}{\\mathbb{Q} }\n",
    "\\newcommand{\\R}{\\mathbb{R} }\n",
    "\\newcommand{\\DD}{\\mathbb{D} }\n",
    "\\newcommand{\\HH}{\\mathbb{H} }\n",
    "\\newcommand{\\spn}{\\mathrm{span} }\n",
    "\\newcommand{\\cov}{\\mathrm{cov} }\n",
    "\\newcommand{\\HS}{\\mathcal{L}_{\\mathrm{HS}} }\n",
    "\\newcommand{\\Hess}{\\mathrm{Hess} }\n",
    "\\newcommand{\\trace}{\\mathrm{trace} }\n",
    "\\newcommand{\\cL}{\\mathcal{L} }\n",
    "\\newcommand{\\cG}{\\mathcal{G} }\n",
    "\\newcommand{\\Xv}{X^{(v)}}\n",
    "\\newcommand{\\s}{\\mathcal{S} }\n",
    "\\newcommand{\\cE}{\\mathcal{E} }\n",
    "\\newcommand{\\ff}{\\mathcal{F} }\n",
    "\\newcommand{\\hh}{\\mathcal{H} }\n",
    "\\newcommand{\\bb}{\\mathcal{B} }\n",
    "\\newcommand{\\dd}{\\mathcal{D} }\n",
    "\\newcommand{\\g}{\\mathcal{G} }\n",
    "\\newcommand{\\half}{\\frac{1}{2} }\n",
    "\\newcommand{\\T}{\\mathcal{T} }\n",
    "\\newcommand{\\bit}{\\begin{itemize}}\n",
    "\\newcommand{\\eit}{\\end{itemize}}\n",
    "\\newcommand{\\beq}{\\begin{equation}}\n",
    "\\newcommand{\\eeq}{\\end{equation}}\n",
    "\\newcommand{\\beas}{\\begin{eqnarray*}}\n",
    "\\newcommand{\\eeas}{\\end{eqnarray*}}\n",
    "\\newcommand{\\tr}{\\mbox{tr}}\n",
    "\\newcommand{\\ee}[1]{{\\mathbb{E}\\left[{#1}\\right]}}\n",
    "\\newcommand{\\eef}[1]{{\\mathbb{E}\\left[\\left.{#1}\\right|\\cF_t\\right]}}\n",
    "\\newcommand{\\eefm}[2]{{\\mathbb{E}^{#2}\\left[\\left.{#1}\\right|\\cF_t\\right]}}\n",
    "\\newcommand{\\angl}[1]{{\\langle{#1}\\rangle}}\n",
    "$$"
   ]
  },
  {
   "cell_type": "markdown",
   "metadata": {
    "slideshow": {
     "slide_type": "slide"
    }
   },
   "source": [
    "## Outline of Lecture 10\n",
    "\n",
    "-   The order book model of Obizhaeva and Wang\n",
    "\n",
    "\n",
    "-   The model of Alfonsi, Fruth and Schied\n",
    "\n",
    "\n",
    "-   What choices of decay kernel $G(\\cdot)$ preclude price manipulation\n",
    "    when instantaneous market impact $f(\\cdot)$ is linear?\n",
    "\n",
    "\n",
    "-   Closed-form examples of optimal strategies\n",
    "\n",
    "\n",
    "-   Nonlinear transient market impact\n",
    "\n"
   ]
  },
  {
   "cell_type": "markdown",
   "metadata": {
    "slideshow": {
     "slide_type": "slide"
    }
   },
   "source": [
    "### Overview of execution algorithm design\n",
    "\n",
    "Typically, an execution algorithm has three layers:\n",
    "\n",
    "-   The macrotrader\n",
    "\n",
    "    -   This highest level layer decides how to slice the order: when\n",
    "        the algorithm should trade, in what size and for roughly how\n",
    "        long.\n",
    "\n",
    "\n",
    "-   The microtrader\n",
    "\n",
    "    -   Given a slice of the order to trade (a child order), this level\n",
    "        decides whether to place market or limit orders and at what\n",
    "        price level(s)."
   ]
  },
  {
   "cell_type": "markdown",
   "metadata": {
    "slideshow": {
     "slide_type": "subslide"
    }
   },
   "source": [
    "-   The smart order router\n",
    "\n",
    "    -   Given a limit or market order, which venue should this order be\n",
    "        sent to?\n",
    "\n",
    "In this lecture, we are again concerned with the highest level of the\n",
    "algorithm: How to slice the order."
   ]
  },
  {
   "cell_type": "markdown",
   "metadata": {
    "slideshow": {
     "slide_type": "slide"
    }
   },
   "source": [
    "### Statement of the problem\n",
    "\n",
    "-   <span> Given a model for the evolution of the stock price, we would\n",
    "    like to find an optimal strategy for trading stock, the strategy\n",
    "    that minimizes some cost function over all permissible strategies.\n",
    "    </span>\n",
    "\n",
    "    -   <span>We will specialize to the case of stock liquidation where\n",
    "        the initial position $x_0=X$ and the final position\n",
    "        $x_T=0$.</span>\n",
    "\n",
    "\n",
    "-   <span>A <span>*static*</span> strategy is one determined in advance\n",
    "    of trading.</span>"
   ]
  },
  {
   "cell_type": "markdown",
   "metadata": {
    "slideshow": {
     "slide_type": "subslide"
    }
   },
   "source": [
    "-   <span>A <span>*dynamic*</span> strategy is one that depends on the\n",
    "    state of the market during execution of the order, *i.e.* on the\n",
    "    stock price.</span>\n",
    "\n",
    "    -   <span>Delta-hedging is an example of a dynamic strategy. VWAP is\n",
    "        an example of a static strategy.</span>\n",
    "\n",
    "\n",
    "-   <span>It will turn out, surprisingly, that in many models, a\n",
    "    statically optimal strategy is also dynamically optimal.</span>"
   ]
  },
  {
   "cell_type": "markdown",
   "metadata": {
    "slideshow": {
     "slide_type": "slide"
    }
   },
   "source": [
    "### P&L and cost associated with a trading strategy\n",
    "\n",
    "Let $x_t$ be a trading strategy. The corresponding P&L (up to time $t$), denoted by $\\Pi_t(x)$, is identified as \n",
    "\n",
    "$$\n",
    "\\Pi_t(x) := x_t (S_t - S_0) + \\int_0^t (S_0 - \\tilde S_\\tau) \\,d x_\\tau.\n",
    "$$\n",
    "\n",
    "- The first term represents unrealized P&L on transactions (purchases or sales) yet to be executed.\n",
    "\n",
    "\n",
    "\n",
    "- The second term corresponds to realized P&L on transactions executed up to time $t$."
   ]
  },
  {
   "cell_type": "markdown",
   "metadata": {
    "slideshow": {
     "slide_type": "slide"
    }
   },
   "source": [
    "### Implementation shortfall\n",
    "\n",
    "- The P&L $\\Pi_T(x)$ associated with a trading strategy $x$ terminating at time $T$ is on average negative.\n",
    "\n",
    "\n",
    "- The quantity $C_T(x):= -\\Pi_T(x)$ is often referred to as  *implementation shortfall*.  \n",
    "\n",
    "    -  Our objective will be to find the strategy $x$ that minimizes the cost $C_T(x)$.\n",
    "\n"
   ]
  },
  {
   "cell_type": "markdown",
   "metadata": {
    "slideshow": {
     "slide_type": "slide"
    }
   },
   "source": [
    "### A transient impact model\n",
    "\n",
    "The price process assumed in [Gatheral]<sup id=\"cite_ref-Gatheral\" class=\"reference\"><a href=\"#cite_note-Gatheral\"><span>[</span>5<span>]</span></a></sup> is\n",
    "\n",
    "$$S_t = S_0 + \\int_0^t\\,h(v_s)\\,G(t-s)\\,ds+M_t$$\n",
    "\n",
    "where $M_t$ is a zero mean martingale, a noise term representing the impact of the trading of other market participants.\n",
    "\n",
    "- $h(v_s)$ is referred to as the *instantaneous market impact function*, which represents the impact of trading at time $s$, and $G(t-s)$ is a decay factor.  \n",
    "    - Note that $h(v) > 0$ if $v > 0$; whereas $h(v) < 0$ if $v < 0$. "
   ]
  },
  {
   "cell_type": "markdown",
   "metadata": {
    "slideshow": {
     "slide_type": "subslide"
    }
   },
   "source": [
    "- $S_t$ follows an arithmetic random walk (Brownian motion) with a drift that depends on the accumulated impacts of previous trades.\n",
    "\n",
    "\n",
    "- The cumulative impact of (others’) trading is implicitly in $S_0$ and the noise term.\n",
    "\n",
    "\n",
    "- The model is a generalization of processes due to Almgren, Bouchaud, and Obizhaeva and Wang.\n",
    "\n",
    "\n",
    "- The model corresponds to the “autogressive model” or “propagator model” of Bouchaud et al."
   ]
  },
  {
   "cell_type": "markdown",
   "metadata": {
    "slideshow": {
     "slide_type": "slide"
    }
   },
   "source": [
    "### P&L and cost of trading in the transient impact model\n",
    "\n",
    "As before, at the end of execution period $T$, the P&L reads\n",
    "\n",
    "$$\n",
    "  \\Pi_T(x) = x_T (S_T - S_0) + \\int_0^T (S_0 - \\tilde S_u)\\, d x_u,\n",
    "$$\n",
    "\n",
    "where $x_T$ is the number of shares left unexecuted at time $T$, and the $\\tilde S_u$ is the execution price at time $u$.\n",
    "\n",
    "- We assume no bid-offer spread or other friction so $\\tilde S_u = S_u$, the market price."
   ]
  },
  {
   "cell_type": "markdown",
   "metadata": {
    "slideshow": {
     "slide_type": "subslide"
    }
   },
   "source": [
    "Hence, in the transient impact (TI) model\n",
    "\n",
    "$$\n",
    "\\begin{eqnarray*}\n",
    "\\Pi_T(x) &=& x_T (S_T - S_0) + \\int_0^T (S_0 - S_u) \\,d x_u \\\\\n",
    "&=& - \\int_0^T \\int_0^t h(v_u)\\,G(t-u) \\,du \\,d x_t - \\int_0^T \\,M_t \\,d x_t \\quad (\\mbox{since } x_T = 0) \\\\\n",
    "&=& - \\int_0^T \\int_0^t h(v_u)\\,G(t-u)\\, du \\,d x_t - (M_T x_T - M_0 x_0)\\\\\n",
    "&&+ \\int_0^T \\,x_t \\,d M_t \\quad (\\mbox{Integration by parts}) \\\\\n",
    "&=& - \\int_0^T \\int_0^t h(v_u)\\,G(t-u) \\,du \\,d x_t + \\int_0^T \\,x_t \\,d M_t \\quad (\\mbox{since } x_T = 0 \\mbox{ and } M_0 = 0).\n",
    "\\end{eqnarray*}\n",
    "$$"
   ]
  },
  {
   "cell_type": "markdown",
   "metadata": {
    "slideshow": {
     "slide_type": "subslide"
    }
   },
   "source": [
    "Thus, the expected cost corresponding to the trading strategy $x$ is given by  \n",
    "\n",
    "\n",
    "$$\n",
    "\\begin{eqnarray*}\n",
    "&& \\E\\left[C_T(x)\\right] = \\E\\left[-\\Pi_T(x)\\right] = \\Eof{\\int_0^T \\int_0^t \\,h(v_u)\\,G(t-u) \\,du \\,d x_t}.\n",
    "\\end{eqnarray*}\n",
    "$$"
   ]
  },
  {
   "cell_type": "markdown",
   "metadata": {
    "slideshow": {
     "slide_type": "slide"
    }
   },
   "source": [
    "### The optimal strategy of a risk neutral trader\n",
    "\n",
    "For a risk neutral trader whose objective is to minimize the cost of trading, the optimal control problem reads \n",
    "\n",
    "$$\n",
    "\\begin{eqnarray*}\n",
    "&& \\min_{v} \\E\\left[C_T(x)\\right] = \\min_v \\int_0^T \\int_0^t \\,h(v_u)\\,G(t-u)\\, du \\,d x_t,\n",
    "\\end{eqnarray*}\n",
    "$$\n",
    "\n",
    "\n",
    "where the state variable $x_t$ is driven by $dx_t = -v_t dt$ with the constraints $x_0 = X$ and $x_T = 0$. "
   ]
  },
  {
   "cell_type": "markdown",
   "metadata": {
    "slideshow": {
     "slide_type": "subslide"
    }
   },
   "source": [
    "This is equivalent to the variational problem\n",
    "\n",
    "$$\n",
    "\\begin{eqnarray*}\n",
    "&& \\min_{v} \\E\\left[C_T(x)\\right] = \\min_v \\left\\{-\\int_0^T \\,v_t\\, dt\\,\\int_0^t\\, h(v_u)\\,G(t-u)\\, du \\right\\},\n",
    "\\end{eqnarray*}\n",
    "$$\n",
    "\n",
    "subject to the constraint $\\int_0^T \\,v_t dt = X$.\n",
    "\n",
    "- Recall that the statically optimal strategy is dynamically optimal (Predoiu, Shaikhet and Shreve)."
   ]
  },
  {
   "cell_type": "markdown",
   "metadata": {
    "slideshow": {
     "slide_type": "slide"
    }
   },
   "source": [
    "### Lagrange multiplier  \n",
    "\n",
    "To derive the Euler-Lagrange equation, consider the Lagrangian\n",
    "\n",
    "$$\n",
    "\\begin{eqnarray*}\n",
    "  \\cL(v,\\lambda) &=& \\int_0^T\\int_0^t \\,v_t \\, G(t-s) \\,h(v_s) \\,ds \\,dt \\\\&&- \\lambda \\left( \\int_0^T \\,v_t\\, dt - X \\right) \\\\\n",
    "  &=& \\int_0^T \\left[ \\int_0^t G(t-s)\\, h(v_s) \\,ds - \\lambda \\right]\\, v_t\\, dt + \\lambda \\,X,\n",
    "\\end{eqnarray*}\n",
    "$$\n",
    "\n",
    "where $\\lambda$ is a Lagrange multiplier. "
   ]
  },
  {
   "cell_type": "markdown",
   "metadata": {
    "slideshow": {
     "slide_type": "slide"
    }
   },
   "source": [
    "\n",
    "### Euler-Lagrange equation\n",
    "\n",
    "Let $\\varphi$ be a perturbation. Consider the first order criterion for the Lagrangian $\\cL$:\n",
    "\n",
    "\n",
    "$$\n",
    "\\begin{eqnarray*}\n",
    "  0 &=& \\left.\\frac{d}{d\\epsilon}\\right|_{\\epsilon=0} \\cL( v_t + \\epsilon \\,\\varphi_t ,\\lambda) \\\\\n",
    "  &=& \\left.\\frac{d}{d\\epsilon}\\right|_{\\epsilon=0} \\int_0^T \\left[ \\int_0^t \\,G(t-s)\\, h(v_s + \\epsilon\\, \\varphi_s)\\, ds - \\lambda \\right] (v_t + \\epsilon\\, \\varphi_t ) dt  \\\\\n",
    "  &=& \\int_0^T \\left[ \\int_0^t G(t-s) \\,h'(v_s)\\, \\varphi_s\\, ds \\right] v_t\\, dt\n",
    "   + \\int_0^T \\left[ \\int_0^t G(t-s) \\,h(v_s) \\,ds - \\lambda \\right] \\varphi_t \\,dt  \\\\\n",
    "%  &=& \\int_0^T \\int_0^t G(t-s) h'(v_s) \\varphi_s v_t ds dt + \\int_0^T \\left[ \\int_0^t G(t-s) h(v_s) ds - \\lambda \\right] \\varphi_t dt  \\\\\n",
    "  &=& \\int_0^T \\left[ \\int_t^T G(s-t) \\,h'(v_t)\\, v_s \\,ds + \\int_0^t\\, G(t-s) \\,h(v_s) \\,ds - \\lambda \\right]\\, \\varphi_t \\,dt.\n",
    "\\end{eqnarray*}\n",
    "$$"
   ]
  },
  {
   "cell_type": "markdown",
   "metadata": {
    "slideshow": {
     "slide_type": "subslide"
    }
   },
   "source": [
    "Since $\\varphi_t$ is arbitrary (because the first order criterion must hold for any perturbation), we must have\n",
    "\n",
    "<a name=\"eq:intEL-TH\"></a>(2)\n",
    "<font color=blue>\n",
    "$$\n",
    "\\int_0^t \\,h(v_s)\\,G(t-s)\\, ds +  h'(v_t) \\,\\int_t^T  \\,v_s\\,G(s-t)\\, ds  = \\lambda \n",
    "$$\n",
    "</font>\n",
    "<br>\n",
    "\n",
    "for all $0 \\leq t \\leq T$. \n",
    "\n",
    "- This a generalized Fredholm integral equation of the first kind. \n",
    "\n",
    "- The Lagrange multiplier $\\lambda$ is determined by the constraint $\\int_0^T v_t dt = X$."
   ]
  },
  {
   "cell_type": "markdown",
   "metadata": {
    "slideshow": {
     "slide_type": "slide"
    }
   },
   "source": [
    "### Obizhaeva and Wang 2005\n",
    "\n",
    "Recall from [Obizhaeva and Wang]<sup id=\"cite_ref-ObizhaevaWang\" class=\"reference\"><a href=\"#cite_note-ObizhaevaWang\"><span>[</span>8<span>]</span></a></sup> that in this model,\n",
    "\n",
    "<a name=\"eq:OWprocess\"></a>(1)\n",
    "$$S_t = S_0 - \\eta\\,\\int_0^t\\,v_s\\,e^{-\\rho\\,(t-s)}\\,ds + \\int_0^t\\,\\sigma\\,dZ_s$$\n",
    "\n",
    "with $v_t=-\\dot x_t$.\n",
    "\n",
    "\n",
    "- Market impact decays exponentially, *i.e.*, $G(\\tau) = e^{-\\rho\\tau}$ \n",
    "\n",
    "\n",
    "- Instantaneous market impact is linear in the rate of trading, $h(v) = -\\eta\\, v$."
   ]
  },
  {
   "cell_type": "markdown",
   "metadata": {
    "slideshow": {
     "slide_type": "subslide"
    }
   },
   "source": [
    "The expected cost of trading becomes:\n",
    "\n",
    "\n",
    "$$\\mathcal{C} =\\eta\\,\\int_0^T\\, v_t\\,dt \\,\\int_0^t\\,{v}_s\\,e^{-\\rho\\,(t-s)}\\,ds$$"
   ]
  },
  {
   "cell_type": "markdown",
   "metadata": {
    "slideshow": {
     "slide_type": "slide"
    }
   },
   "source": [
    "### The Obizhaeva and Wang average price path\n",
    "<h2><img src=\"http://mfe.baruch.cuny.edu/wp-content/uploads/2015/04/ObizhaevaWang.png\" align = \"center\" width=700></h2>\n",
    "Figure 1: The Obizhaeva Wang average price path: higher $\\rho$ in pink; lower $\\rho$ in brown."
   ]
  },
  {
   "cell_type": "markdown",
   "metadata": {
    "slideshow": {
     "slide_type": "slide"
    }
   },
   "source": [
    "### Obizhaeva Wang order book process\n",
    "<h2><img src=\"http://mfe.baruch.cuny.edu/wp-content/uploads/2015/04/BuziosBookOW.png\" align = \"center\" width=550></h2>\n",
    "When a trade of size $\\xi$ is placed at time $t$,\n",
    "\n",
    "\\begin{eqnarray*}\n",
    " E_t &\\mapsto& E_{t+}=E_t+\\xi\\\\\n",
    "D_t=\\eta\\,E_t &\\mapsto&\n",
    "D_{t+}=\\eta\\,E_{t+}=\\eta\\,\\left(E_{t}+\\xi \\right)\\end{eqnarray*}"
   ]
  },
  {
   "cell_type": "markdown",
   "metadata": {
    "slideshow": {
     "slide_type": "slide"
    }
   },
   "source": [
    "The Euler-Lagrange equation [(2)](#eq:intEL-TH) in this case reads:\n",
    "\n",
    "<a name=\"eq:intEL\"></a>(2')\n",
    "$$\n",
    "\\eta \\int_t^T\\,v_s\\,e^{-\\rho\\,(s-t)}\\,ds - \\eta \\int_0^t\\,v_s\\,e^{-\\rho\\,(t-s)}\\,ds  = \\lambda.\n",
    "$$\n",
    "\n",
    "[(2')](#eq:intEL) may be rewritten as\n",
    "\n",
    "$$\\int_0^T\\,v_s\\,e^{-\\rho\\,|t-s|}\\,ds=-\\frac\\lambda\\eta$$\n",
    "\n",
    "\n",
    "which is a Fredholm integral\n",
    "equation of the first kind (see [Gatheral, Schied and Slynko]<sup id=\"cite_ref-GatheralSchiedSlynko\" class=\"reference\"><a href=\"#cite_note-GatheralSchiedSlynko\"><span>[</span>6<span>]</span></a></sup>)."
   ]
  },
  {
   "cell_type": "markdown",
   "metadata": {
    "slideshow": {
     "slide_type": "subslide"
    }
   },
   "source": [
    "Now substitute \n",
    "\n",
    "$$v_s = A \\,\\delta(s) + A\\, \\rho + A \\,\\delta(s-T),$$ \n",
    "\n",
    "where $A$ is a (to be determined) constant, into [(2')](#eq:intEL) to obtain\n",
    "\n",
    "$$\n",
    "A\\, e^{-\\rho\\,t} + A\\, \\left(1-e^{-\\rho\\,t}\\right) + A\\, \\left(1-e^{-\\rho\\,(T-t)}\\right) + A\\,e^{-\\rho\\,(T-t)} = 2\\,A\n",
    "%\\quad \\Longrightarrow \\quad \\lambda = -3 \\,A \\,\\eta.\n",
    "$$\n",
    "\n",
    "so the Fredholm integral equation is satisfied.  "
   ]
  },
  {
   "cell_type": "markdown",
   "metadata": {
    "slideshow": {
     "slide_type": "subslide"
    }
   },
   "source": [
    "Moreover, from the constraint $\\int_0^T v_t dt = X$,\n",
    "\n",
    "$$\n",
    "\\int_0^T \\,v_t\\, dt = 2\\, A + A \\,\\rho \\,T = X\n",
    "$$\n",
    "\n",
    "so\n",
    "\n",
    "$$\n",
    " A = \\frac X{2 + \\rho T}. \n",
    "$$\n",
    "\n",
    "- The optimal strategy consists of a block trade at time $t=0$, continuous\n",
    "trading at the rate $\\rho$ over the interval $(0,T)$ and another block\n",
    "trade at time $t=T$."
   ]
  },
  {
   "cell_type": "markdown",
   "metadata": {
    "slideshow": {
     "slide_type": "subslide"
    }
   },
   "source": [
    "Consider the volume impact process $E_t$. The initial block-trade causes\n",
    "\n",
    "$$0=E_0 \\mapsto E_{0+} = A$$\n",
    "\n",
    "According to the assumptions of the model,\n",
    "the volume impact process reverts exponentially so\n",
    "\n",
    "$$E_t=E_{0+}\\,e^{-\\rho\\,t} + A\\, \\rho\\,\\int_0^t\\,e^{-\\rho\\,(t-s)}\\,ds = A$$\n",
    "\n",
    "<span>*i.e.*</span> the volume impact process is constant when the\n",
    "trading strategy is optimal."
   ]
  },
  {
   "cell_type": "markdown",
   "metadata": {
    "slideshow": {
     "slide_type": "slide"
    }
   },
   "source": [
    "### Optimality\n",
    "\n",
    "-   <span> Originally, [Obizhaeva and Wang]<sup id=\"cite_ref-ObizhaevaWang\" class=\"reference\"><a href=\"#cite_note-ObizhaevaWang\"><span>[</span>7<span>]</span></a></sup> derived their solution in discrete\n",
    "    time by explicitly solving the HJB equation. </span>\n",
    "\n",
    "\n",
    "-   The observation of [Predoiu, Shaikhet and Shreve]<sup id=\"cite_ref-PredoiuShaikhetShreve\" class=\"reference\"><a href=\"#cite_note-PredoiuShaikhetShreve\"><span>[</span>9<span>]</span></a></sup> allows us to deduce that\n",
    "    the statically optimal solution  is also dynamically\n",
    "    optimal.\n",
    "\n"
   ]
  },
  {
   "cell_type": "markdown",
   "metadata": {
    "slideshow": {
     "slide_type": "slide"
    }
   },
   "source": [
    "### The model of Alfonsi, Fruth and Schied\n",
    "\n",
    "[Alfonsi, Fruth and Schied]<sup id=\"cite_ref-AlfonsiFruthSchied\" class=\"reference\"><a href=\"#cite_note-AlfonsiFruthSchied\"><span>[</span>2<span>]</span></a></sup> consider the following (AS) model of the order book:\n",
    "\n",
    "-   <span>There is a continuous (in general nonlinear) density of orders\n",
    "    $f(x)$ above some martingale ask price $A_t$. The cumulative density\n",
    "    of orders up to price level $x$ is given by\n",
    "    \n",
    "    $$F(x):=\\int_0^x\\,f(y)\\,dy$$</span>"
   ]
  },
  {
   "cell_type": "markdown",
   "metadata": {
    "slideshow": {
     "slide_type": "subslide"
    }
   },
   "source": [
    "-   <span>Executions eat into the order book (*i.e.* executions are with\n",
    "    market orders).</span>\n",
    "\n",
    "\n",
    "-   A purchase of $\\xi$ shares at time $t$ causes the ask price to\n",
    "    increase from $A_t+D_t$ to $A_t +D_{t+}$ with\n",
    "    \n",
    "    $$\\xi=\\int_{D_t}^{D_{t+}}\\,f(x)\\,dx=F(D_{t+})-F(D_{t})$$"
   ]
  },
  {
   "cell_type": "markdown",
   "metadata": {
    "slideshow": {
     "slide_type": "slide"
    }
   },
   "source": [
    "### Schematic of the model\n",
    "\n",
    "<h2><img src=\"http://mfe.baruch.cuny.edu/wp-content/uploads/2015/04/BuziosASbook.png\" align = \"center\" width=550></h2>\n",
    "\n",
    "When a trade of size $\\xi$ is placed at time $t$,\n",
    "\n",
    "$$\n",
    "\\begin{eqnarray*}\n",
    " E_t = F(D_t)&\\mapsto& E_{t+}=E_t+\\xi =  F(D_{t+})\\\\\n",
    "D_t=F^{-1}(E_t) &\\mapsto&\n",
    "D_{t+}=F^{-1}(E_{t+})=F^{-1}(E_{t}+\\xi)\\end{eqnarray*}\n",
    "$$"
   ]
  },
  {
   "cell_type": "markdown",
   "metadata": {
    "slideshow": {
     "slide_type": "slide"
    }
   },
   "source": [
    "### Optimal liquidation strategy in the AS model\n",
    "\n",
    "The cost of trade execution in the AS model is given by:\n",
    "\n",
    "<a name=\"eq:asCost2\"></a>(3)\n",
    "$$\\mathcal{C}=\\int_0^T\\,v_t\\,F^{-1}(E_t)\\,dt+\\sum_{t\\le T}\\,\\left[H(E_{t+})-H(E_{t})\\right]$$\n",
    "\n",
    "where \n",
    "\n",
    "$$E_t = \\int_0^t\\,v_s\\,e^{-\\rho\\,(t-s)}\\,ds$$ \n",
    "\n",
    "is the volume impact\n",
    "process. "
   ]
  },
  {
   "cell_type": "markdown",
   "metadata": {
    "slideshow": {
     "slide_type": "subslide"
    }
   },
   "source": [
    "\n",
    "$$H(x)=\\int_0^x\\,F^{-1}(y)\\,dy$$ \n",
    "\n",
    "gives the cost of executing\n",
    "an instantaneous block trade of size $x$."
   ]
  },
  {
   "cell_type": "markdown",
   "metadata": {
    "slideshow": {
     "slide_type": "subslide"
    }
   },
   "source": [
    "Consider the ansatz $v_t=\\xi_0\\,\\delta(t)+\\xi_0\\,\\rho+\\xi_T\\delta(T-t)$.\n",
    "For $t \\in (0,T)$, we have $\n",
    "E_t=E_0=\\xi_0\n",
    "$, a constant. With this choice of $u_t$, we would have\n",
    "\n",
    "$$\n",
    "\\begin{eqnarray*}\n",
    "\\mathcal{C}(X)&=&F^{-1}(\\xi_0)\\,\\int_0^T\\,\\xi_0\\,\\rho\\,dt\\\\&&+\\left[H(E_{0^+})-H(E_{0})\\right]+\\left[H(E_{T})-H(E_{T^-})\\right]\\\\\n",
    "&=&F^{-1}(\\xi_0)\\,\\xi_0\\,\\rho\\,T+H(\\xi_0)+\\left[H(\\xi_0+\\xi_T)-H(\\xi_0)\\right]\\\\\n",
    "&=&F^{-1}(\\xi_0)\\,\\xi_0\\,\\rho\\,T+H(X-\\rho\\,\\xi_0\\,T)\\end{eqnarray*}\n",
    "$$\n"
   ]
  },
  {
   "cell_type": "markdown",
   "metadata": {
    "slideshow": {
     "slide_type": "subslide"
    }
   },
   "source": [
    "Differentiating this last expression gives us the condition satisfied by\n",
    "the optimal choice of $\\xi_0$:\n",
    "\n",
    "$$F^{-1}(X-\\rho\\,\\xi_0\\,T)=F^{-1}(\\xi_0)+{F^{-1}}'(\\xi_0)\\,\\xi_0$$\n",
    "\n",
    "or\n",
    "equivalently\n",
    "\n",
    "$$F^{-1}(\\xi_0+\\xi_T)=F^{-1}(\\xi_0)+{F^{-1}}'(\\xi_0)\\,\\xi_0.$$"
   ]
  },
  {
   "cell_type": "markdown",
   "metadata": {
    "slideshow": {
     "slide_type": "subslide"
    }
   },
   "source": [
    "Functionally differentiating (see Wikipedia [functional derivative](https://en.wikipedia.org/wiki/Functional_derivative)) $\\mathcal{C} $ with respect to $u_t$ gives\n",
    "\n",
    "<a name=\"eq:intEL_AS\"></a>(4)\n",
    "$$\n",
    "\\frac{\\delta \\mathcal{C}}{\\delta u_t} = F^{-1}(E_t)+\\int_t^T\\,u_s\\,{F^{-1}}'\\left(E_s\\right)\\,\\frac{\\delta E_s}{ \\delta u_t}\\,ds = F^{-1}(E_t)+\\int_t^T\\,u_s\\,{F^{-1}}'\\left(E_s\\right)\\,e^{-\\rho\\,(s-t)}\\,ds\n",
    "$$\n",
    "\n",
    "The first term in [(4)](#eq:intEL_AS) represents the marginal cost of new\n",
    "quantity at time $t$ and the second term represents the marginal extra\n",
    "cost of future trading."
   ]
  },
  {
   "cell_type": "markdown",
   "metadata": {
    "slideshow": {
     "slide_type": "subslide"
    }
   },
   "source": [
    "With our ansatz, and a limiting argument, we obtain\n",
    "\n",
    "$$\n",
    "\\begin{eqnarray*}\n",
    "\\frac{\\delta \\mathcal{C}}{\\delta u_t}\n",
    "&=&F^{-1}(\\xi_0)+\\xi_0\\,{F^{-1}}'\\left(\\xi_0\\right)\\,\\left[1-e^{-\\rho\\,(T-t)}\\right] \\\\\n",
    "&&+ \\int_{T^-}^T\\,u_s\\,{F^{-1}}'\\left(E_s\\right)\\,e^{-\\rho\\,(T-t)}\\,ds\\\\\n",
    "&=&F^{-1}(\\xi_0)+\\xi_0\\,{F^{-1}}'\\left(\\xi_0\\right)\\,\\left[1-e^{-\\rho\\,(T-t)}\\right] \\\\\n",
    "&&+ e^{-\\rho\\,(T-t)}\\,\\int_{\\xi_0}^{\\xi_T+\\xi_0}\\,{F^{-1}}'\\left(E_s\\right)\\,dE_s\\\\\n",
    "&=&F^{-1}(\\xi_0)+\\xi_0\\,{F^{-1}}'\\left(\\xi_0\\right)\\,\\left[1-e^{-\\rho\\,(T-t)}\\right] \\\\\n",
    "&&+ e^{-\\rho\\,(T-t)}\\,\\left[F^{-1}(\\xi_T+\\xi_0)-F^{-1}(\\xi_0)\\right].\n",
    "\\end{eqnarray*}\n",
    "$$"
   ]
  },
  {
   "cell_type": "markdown",
   "metadata": {
    "slideshow": {
     "slide_type": "subslide"
    }
   },
   "source": [
    "Imposing our earlier condition on $\\xi_T$ gives\n",
    "\n",
    "\\begin{eqnarray*}\n",
    "\\frac{\\delta \\mathcal{C}}{\\delta u_t}&=&F^{-1}(\\xi_0)+\\xi_0\\,{F^{-1}}'\\left(\\xi_0\\right)\\,\\left[1-e^{-\\rho\\,(T-t)}\\right]\\\\&& + e^{-\\rho\\,(T-t)}\\,\\xi_0\\,{F^{-1}}'\\left(\\xi_0\\right)\\\\\n",
    "&=&F^{-1}(\\xi_0)+\\xi_0\\,{F^{-1}}'\\left(\\xi_0\\right)\\end{eqnarray*}\n",
    "\n",
    "which is constant, demonstrating (static) optimality."
   ]
  },
  {
   "cell_type": "markdown",
   "metadata": {
    "slideshow": {
     "slide_type": "subslide"
    }
   },
   "source": [
    "### <font color=\"red\">Example\n",
    "  \n",
    "<font color=\"red\">\n",
    "With $F^{-1}(x)=\\sqrt{x}$,\n",
    "\n",
    "$$\n",
    "\\beas\n",
    "\\sqrt{\\xi_0+\\xi_T}&=& F^{-1}(\\xi_0+\\xi_T)\\\\&=&F^{-1}(\\xi_0)+{F^{-1}}'(\\xi_0)\\,\\xi_0\\\\\n",
    "&=&\\sqrt{\\xi_0}+\\frac{1}{2}\\,\\sqrt{\\xi_0}\n",
    "\\eeas$$\n",
    "\n",
    "which has the solution $\\xi_T=\\frac{5}{4}\\,\\xi_0$."
   ]
  },
  {
   "cell_type": "markdown",
   "metadata": {
    "slideshow": {
     "slide_type": "slide"
    }
   },
   "source": [
    "### Optimality of the bucket-shaped strategy\n",
    "\n",
    "- [Predoiu, Shaikhet and Shreve]<sup id=\"cite_ref-PredoiuShaikhetShreve\" class=\"reference\"><a href=\"#cite_note-PredoiuShaikhetShreve\"><span>[</span>8<span>]</span></a></sup> have shown that the bucket-shaped strategy is optimal under more general conditions than exponential resiliency. \n",
    "     - Specifically, if resiliency is a function of $E_t$ (or equivalently $D_t$) only, the optimal strategy has a block trades at inception and completion and continuous trading at a constant rate in-between.\n",
    "\n"
   ]
  },
  {
   "cell_type": "markdown",
   "metadata": {
    "slideshow": {
     "slide_type": "slide"
    }
   },
   "source": [
    "### Optimality and price manipulation\n",
    "\n",
    "-   <span>For all of the models considered so far, there was an optimal\n",
    "    strategy.</span>\n",
    "\n",
    "\n",
    "-   <span>The optimal strategy always involved trades of the same sign.\n",
    "    So no sells in a buy program, no buys in a sell program.</span>\n",
    "\n",
    "\n",
    "-   <span>Recall that [Gatheral]<sup id=\"cite_ref-Gatheral\" class=\"reference\"><a href=\"#cite_note-Gatheral\"><span>[</span>4<span>]</span></a></sup> showed that we can write down models for\n",
    "    which price manipulation is possible.</span>\n",
    "\n",
    "    -   <span>For example, square root price impact with exponential\n",
    "        decay admits price manipulation.</span>"
   ]
  },
  {
   "cell_type": "markdown",
   "metadata": {
    "slideshow": {
     "slide_type": "subslide"
    }
   },
   "source": [
    "-   <span>In such cases, a round-trip trade can generate cash on\n",
    "    average.</span>\n",
    "\n",
    "    -   <span>You would want to repeat such a trade over and\n",
    "        over.</span>\n",
    "\n",
    "    -   <span>There would be no optimal strategy.</span>"
   ]
  },
  {
   "cell_type": "markdown",
   "metadata": {
    "slideshow": {
     "slide_type": "slide"
    }
   },
   "source": [
    "### Linear transient market impact\n",
    "\n",
    "Recall Gatheral's transient impact model assumed in [Gatheral]<sup id=\"cite_ref-Gatheral\" class=\"reference\"><a href=\"#cite_note-Gatheral\"><span>[</span>4<span>]</span></a></sup> \n",
    "\n",
    "$$S_t=S_0+\\int_0^t\\,h(v_s)\\,G(t-s)\\,ds+\\text{ noise/zero mean martingale}$$\n",
    "\n",
    "- In\n",
    "[Gatheral, Schied and Slynko]<sup id=\"cite_ref-GatheralSchiedSlynko\" class=\"reference\"><a href=\"#cite_note-GatheralSchiedSlynko\"><span>[</span>5<span>]</span></a></sup>, this model is on the one hand extended to\n",
    "explicitly include discrete optimal strategies and on the other hand\n",
    "restricted to the case of linear market impact, $h(v) = \\eta \\,v$. "
   ]
  },
  {
   "cell_type": "markdown",
   "metadata": {
    "slideshow": {
     "slide_type": "subslide"
    }
   },
   "source": [
    "When the admissible strategy $x$ is used, the price $S_t$ is given by\n",
    "\n",
    "(5)\n",
    "$$ \n",
    "S _ t = S _ 0 + \\eta \\int _ {s \\le t} G(t-s)\\,dx_s + \\text{ martingale},\n",
    "$$\n",
    "\n",
    "and the expected cost of liquidation is given by\n",
    "\n",
    "<a name=\"eq:quadraticform\"></a>(6)\n",
    "$$\\mathcal{C} (x):=\\frac{\\eta}{2}\\,\\int_0^T\\int_0^T {G}(|t-s|)\\,dx_s\\,dx_t.$$"
   ]
  },
  {
   "cell_type": "markdown",
   "metadata": {
    "slideshow": {
     "slide_type": "slide"
    }
   },
   "source": [
    "### Condition for no price manipulation\n",
    "\n",
    "<span>\n",
    "#### <font color=\"blue\">Definition (Huberman and Stanzl)\n",
    "<font color=\"blue\">\n",
    "\n",
    ">A *round\n",
    "trip* is an admissible strategy with $x_0=x_T$. A *price manipulation\n",
    "strategy* is a round trip with strictly negative expected costs.</span>\n",
    "<p>\n",
    "\n",
    "#### <font color=\"red\">Theorem (Bochner)\n",
    "><font color=\"red\"><span>$\\mathcal{C} (x)\\ge0$ for all admissible\n",
    "strategies $x$ if and only if ${G}(|\\cdot|)$ can be represented as the\n",
    "Fourier transform of a positive finite Borel measure $\\mu$ on\n",
    "$\\mathbb{R} $, i.e., $${G}(|\\tau|)=\\int e^{i \\,z\\,\\tau}\\,\\mu(dz).$$</span>\n"
   ]
  },
  {
   "cell_type": "markdown",
   "metadata": {
    "slideshow": {
     "slide_type": "slide"
    }
   },
   "source": [
    "### First order condition\n",
    "\n",
    "For linear market impact, the Euler-Lagrange equation [(2)](#eq:intEL-TH) reduces to \n",
    "\n",
    "$$\\int_0^T {G}(|t-s|)\\,dx_s =\\lambda\\qquad\\text{for all $t\\in[0,T] $.}$$\n",
    "\n",
    "Moreover, we have"
   ]
  },
  {
   "cell_type": "markdown",
   "metadata": {
    "slideshow": {
     "slide_type": "subslide"
    }
   },
   "source": [
    "#### <font color=\"red\">Theorem\n",
    "<font color=\"red\">\n",
    ">Suppose that ${G}$ is positive definite. Then $x^*$\n",
    "minimizes $\\mathcal{C} (\\cdot)$ if and only if there is a constant\n",
    "$\\lambda$ such that $x^*$ solves the generalized Fredholm integral\n",
    "equation\n",
    "\n",
    "><a name=\"eq:Fredholm\"></a>(7)\n",
    "$$\\int_0^T {G}(|t-s|)\\,dx^*_s =\\lambda\\qquad\\text{for all $t\\in[0,T] $.}$$\n",
    "\n",
    ">In this case, $\\mathcal{C} (x^*)=\\frac{1}{2}\\,\\lambda \\,X$. In\n",
    "particular, $\\lambda$ must be nonzero as soon as ${G}$ is strictly\n",
    "positive definite and $X\\neq0$."
   ]
  },
  {
   "cell_type": "markdown",
   "metadata": {
    "slideshow": {
     "slide_type": "slide"
    }
   },
   "source": [
    "### Transaction-triggered price manipulation\n",
    "<p>\n",
    "#### <font color=\"blue\"> Definition (Alfonsi, Schied, Slynko (2009))\n",
    ">A market impact model admits\n",
    "*transaction-triggered price manipulation* if the expected costs of a\n",
    "sell (buy) program can be decreased by intermediate buy (sell) trades.\n",
    "</font>\n",
    "\n",
    "- As discussed in [Alfonsi, Schied and Slynko]<sup id=\"cite_ref-AlfonsiSchiedSlynko\" class=\"reference\"><a href=\"#cite_note-AlfonsiSchiedSlynko\"><span>[</span>3<span>]</span></a></sup>, transaction-triggered price\n",
    "manipulation can be regarded as an additional model irregularity that\n",
    "should be excluded. \n",
    "\n",
    "- Transaction-triggered price manipulation can exist\n",
    "in models that do not admit standard price manipulation in the sense of\n",
    "Huberman and Stanzl definition.\n",
    "\n"
   ]
  },
  {
   "cell_type": "markdown",
   "metadata": {
    "slideshow": {
     "slide_type": "slide"
    }
   },
   "source": [
    "### Remark\n",
    "\n",
    "It follows that in admissible models of market impact, the optimal strategy consists only of orders of the same sign.  In particular, this strategy must be of bounded variation, in which case the integration by parts trick of Predoiu, Shaikhet and Shreve from Lecture 9 applies. \n",
    "\n",
    "As we saw in Lecture 9, the practical consequence of this is that we should always set up our model in such a way that the risk term (if any) does not depend on the stock price."
   ]
  },
  {
   "cell_type": "markdown",
   "metadata": {
    "slideshow": {
     "slide_type": "slide"
    }
   },
   "source": [
    "### Condition for no transaction-triggered price manipulation\n",
    "\n",
    "\n",
    "<span>\n",
    "#### <font color=\"red\">Theorem\n",
    "\n",
    "<font color=\"red\">\n",
    ">Suppose that the decay kernel ${G}(\\cdot)$ is convex,\n",
    "satisfies $\\int_0^1{G}(t)\\,dt<\\infty$ and that the set of admissible\n",
    "strategies is nonempty. Then there exists a unique admissible optimal\n",
    "strategy $x^*$. Moreover, $x^*_t$ is a monotone function of $t$, and so\n",
    "there is no transaction-triggered price manipulation.\n",
    "</span>\n",
    "\n",
    "<span>\n",
    "#### <font color=\"red\">Remark\n",
    "\n",
    "<font color=\"red\">\n",
    "If ${G}$ is not convex in a neighborhood of zero, there is\n",
    "transaction-triggered price manipulation.\n",
    "</span>\n",
    "\n"
   ]
  },
  {
   "cell_type": "markdown",
   "metadata": {
    "slideshow": {
     "slide_type": "slide"
    }
   },
   "source": [
    "### An instructive example\n",
    "\n",
    "We solve a discretized version of the Fredholm equation (with 512 time\n",
    "points) for two similar decay kernels."
   ]
  },
  {
   "cell_type": "markdown",
   "metadata": {
    "slideshow": {
     "slide_type": "subslide"
    }
   },
   "source": [
    "$$G_1(\\tau)=\\frac{1}{(1+t)^2};\\qquad G_2(\\tau)=\\frac{1}{1+t^2}$$\n",
    "<h2><img src=\"http://mfe.baruch.cuny.edu/wp-content/uploads/2015/04/PetitDejeunerG.png\" align = \"center\" width=700></h2>\n",
    "Figure 2: $G_1(\\cdot)$ is convex, but $G_2(\\cdot)$ is concave near $\\tau=0$ so\n",
    "there should be a unique optimal strategy with $G_1(\\cdot)$ as a choice\n",
    "of kernel but there should be transaction-triggered price manipulation\n",
    "with $G_2(\\cdot)$ as the choice of decay kernel."
   ]
  },
  {
   "cell_type": "markdown",
   "metadata": {
    "slideshow": {
     "slide_type": "subslide"
    }
   },
   "source": [
    "### Numerical solution of the Fredholm equation with $G_1(\\tau)=\\frac{1}{(1+\\tau)^2}$\n",
    "\n",
    "<h2><img src=\"http://mfe.baruch.cuny.edu/wp-content/uploads/2015/04/TorontoComputationalPolynomial.png\" align = \"center\" width=600></h2>\n",
    "\n",
    "Figure 2: With $G_1$ as the decay kernel, we observe block trades at $t=0$ and $t=1$ with continuous (nonconstant) trading in $(0,1)$. "
   ]
  },
  {
   "cell_type": "markdown",
   "metadata": {
    "slideshow": {
     "slide_type": "subslide"
    }
   },
   "source": [
    "### Numerical solution of the Fredholm equation with $G_2(\\tau)=\\frac{1}{1+\\tau^2}$\n",
    "<h2><img src=\"http://mfe.baruch.cuny.edu/wp-content/uploads/2015/04/TorontoComputationalTTM.png\" align = \"center\" width=700></h2>\n",
    "\n",
    "Figure 3: With $G_2$ as the decay kernel, we see numerical evidence that the optimal strategy does not exist."
   ]
  },
  {
   "cell_type": "markdown",
   "metadata": {
    "slideshow": {
     "slide_type": "slide"
    }
   },
   "source": [
    "Now we give some examples of the optimal strategy with choices of kernel\n",
    "that preclude transaction-triggered price manipulation."
   ]
  },
  {
   "cell_type": "markdown",
   "metadata": {
    "slideshow": {
     "slide_type": "slide"
    }
   },
   "source": [
    "### Example I: Linear market impact with exponential decay\n",
    "\n",
    "$G(\\tau)=e^{-\\rho\\,\\tau}$ and the optimal strategy $u(s)$ solves\n",
    "\n",
    "$$\\int_0^T\\,u(s)e^{-\\rho\\,|t-s|}\\,ds=\\text{const.}$$\n",
    "\n",
    "We already derived\n",
    "the solution which is\n",
    "\n",
    "$$u(s)=A\\,\\left\\{\\delta(t)+\\rho+\\delta(T-t)\\right\\}$$"
   ]
  },
  {
   "cell_type": "markdown",
   "metadata": {
    "slideshow": {
     "slide_type": "subslide"
    }
   },
   "source": [
    "The normalizing\n",
    "factor $A$ is given by\n",
    "\n",
    "$$\\int_0^T\\,u(t)\\,dt=X=A\\, \\left(2+\\rho\\,T\\right)$$\n",
    "\n",
    "The optimal strategy\n",
    "consists of block trades at $t=0$ and $t=T$ and continuous trading at\n",
    "the constant rate $\\rho$ between these two times."
   ]
  },
  {
   "cell_type": "markdown",
   "metadata": {
    "slideshow": {
     "slide_type": "subslide"
    }
   },
   "source": [
    "### Schematic of optimal strategy\n",
    "\n",
    "The optimal strategy with $\\rho=0.1$ and $T=1$\n",
    "<h2><img src=\"http://mfe.baruch.cuny.edu/wp-content/uploads/2015/04/Algo2010Exponential.png\" align = \"center\" width=800></h2>"
   ]
  },
  {
   "cell_type": "markdown",
   "metadata": {
    "slideshow": {
     "slide_type": "slide"
    }
   },
   "source": [
    "### Example II: Linear market impact with power-law decay\n",
    "\n",
    "$G(\\tau)=\\tau^{-\\gamma}$ and the optimal strategy $u(s)$ solves\n",
    "\n",
    "$$\\int_0^T\\,\\frac{u(s)}{|t-s|^\\gamma}\\,ds=\\text{const.}$$\n",
    "\n",
    "The solution\n",
    "is \n",
    "\n",
    "$$u(s)=\\frac{A}{\\left[s\\,(T-s)\\right]^{(1-\\gamma)/2}}.$$"
   ]
  },
  {
   "cell_type": "markdown",
   "metadata": {
    "slideshow": {
     "slide_type": "subslide"
    }
   },
   "source": [
    "The\n",
    "normalizing factor $A$ is given by\n",
    "\n",
    "$$\\int_0^T\\,u(t)\\,dt=X=A\\, \\sqrt{\\pi }\\,\\left(\\frac{T}{2}\\right)^\\gamma \\,\\frac{ \\Gamma \\left(\n",
    "\\frac{1+\\gamma}{2}\\right)}{\\Gamma \\left(1+\\frac{\\gamma }{2}\\right)}$$\n",
    "\n",
    "The optimal strategy is absolutely continuous with no block trades.\n",
    "However, it is singular at $t=0$ and $t=T$."
   ]
  },
  {
   "cell_type": "markdown",
   "metadata": {
    "slideshow": {
     "slide_type": "subslide"
    }
   },
   "source": [
    "### Schematic of optimal strategy\n",
    "\n",
    "The red line is a plot of the optimal strategy with $T=1$ and\n",
    "$\\gamma=1/2$.\n",
    "<h2><img src=\"http://mfe.baruch.cuny.edu/wp-content/uploads/2015/04/Algo2010PowerLaw.png\" align = \"center\" width=800></h2>"
   ]
  },
  {
   "cell_type": "markdown",
   "metadata": {
    "slideshow": {
     "slide_type": "slide"
    }
   },
   "source": [
    "### Example III: Linear market impact with linear decay\n",
    "\n",
    "$G(\\tau)=(1-\\rho\\,\\tau)^+$ and the optimal strategy $u(s)$ solves\n",
    "\n",
    "$$\\int_0^T\\,{u(s)}\\,(1-\\rho\\,|t-s|)^+\\,ds=\\text{const.}$$\n",
    "\n",
    "Let\n",
    "$N:=\\lfloor{\\rho\\,T}\\rfloor$, the largest integer less than or equal to\n",
    "$\\rho\\,T$. Then\n",
    "\n",
    "$$u(s)=A\\,\\sum_{i =0}^ N\\,\\left(1-\\frac{i}{N+1}\\right)\\,\\left\\{\\delta\\left(s- \\frac{i}{\\rho}\\right)+\\delta\\left(T-s- \\frac{i}{\\rho}\\right)\\right\\}$$"
   ]
  },
  {
   "cell_type": "markdown",
   "metadata": {
    "slideshow": {
     "slide_type": "subslide"
    }
   },
   "source": [
    "The normalizing factor $A$ is given by\n",
    "\n",
    "$$\\int_0^T\\,u(t)\\,dt=X=A\\, \\sum_{i =0}^ N\\,2\\,\\left(1-\\frac{i}{N+1}\\right)=A\\,(2 + N)$$\n",
    "\n",
    "The optimal strategy consists only of block trades with no trading\n",
    "between blocks."
   ]
  },
  {
   "cell_type": "markdown",
   "metadata": {
    "slideshow": {
     "slide_type": "subslide"
    }
   },
   "source": [
    "### Schematic of optimal strategy\n",
    "\n",
    "Positions and relative sizes of the block trades in the optimal strategy\n",
    "with $\\rho=1$ and $T=5.2$ (so $N=\\lfloor\\rho\\,T\\rfloor=5$).\n",
    "<h2><img src=\"http://mfe.baruch.cuny.edu/wp-content/uploads/2015/04/Algo2010Linear.png\" align = \"center\" width=800></h2>"
   ]
  },
  {
   "cell_type": "markdown",
   "metadata": {
    "slideshow": {
     "slide_type": "slide"
    }
   },
   "source": [
    "### When is the optimal strategy bucket-shaped?\n",
    "\n",
    "-   For which nonincreasing convex decay kernels $G$ does the optimal\n",
    "    execution strategy have singular components only at $t=0$ and $t=T$\n",
    "    with absolutely continuous trading on the interval $(0,T)$?\n",
    "\n",
    "    -   This question is answered in Corollary 1 of [Alfonsi and Schied]<sup id=\"cite_ref-AlfonsiSchied\" class=\"reference\"><a href=\"#cite_note-AlfonsiSchied\"><span>[</span>1<span>]</span></a></sup>.\n",
    "\n",
    "<font color=\"red\">\n",
    "#### Corollary\n",
    ">Suppose that $G$ is completely monotone with\n",
    "$G''(0+):=\\lim_{t \\downarrow 0} G''(t) < \\infty$. Then the capacitary\n",
    "measure $\\mu^\\star$ has two Dirac components at $t=0$ and $t=T$ and has\n",
    "a continuous Lebesgue density on $(0,T)$.\n",
    "\n"
   ]
  },
  {
   "cell_type": "markdown",
   "metadata": {
    "slideshow": {
     "slide_type": "slide"
    }
   },
   "source": [
    "### Completely monotone functions\n",
    "<p>\n",
    "#### <font color=\"blue\"> Definition\n",
    ">$G$ is completely monotone if $G$ belongs to $C^\\infty((0,\\infty))$ and\n",
    "$(-1)^nG^{(n)}$ is nonnegative in $(0,\\infty)$ for $n \\in \\mathbb N$.\n",
    "</font>\n",
    "\n",
    "<p>\n",
    "\n",
    "#### <font color=red> Theorem (Hausdorff–Bernstein–Widder)\n",
    ">G is completely monotone if and only if it is\n",
    "the Laplace transform of a Borel probability measure $\\lambda$ on\n",
    "$\\mathbb{R}+$:\n",
    "\n",
    "$$G(t) = \\int \\,e^{-\\rho\\,t}\\,\\lambda(d\\rho), \\quad t \\geq 0.$$\n",
    "\n"
   ]
  },
  {
   "cell_type": "markdown",
   "metadata": {
    "slideshow": {
     "slide_type": "slide"
    }
   },
   "source": [
    "### Examples of completely monotone functions\n",
    "\n",
    "-   Examples of completely monotone functions are\n",
    "\n",
    "    $$\n",
    "    G_1(\\tau) =\\frac{1}{(1+\\tau)^\\gamma}, \\quad G_2(\\tau) =\\sum _ {i=1}^d\\,\\lambda_i\\,e^{-\\rho_i\\,\\tau} \\text{ with } \\sum _ {i=1}^d\\,\\lambda_i=1 \\text{ and } \\,\\lambda_i,\\,\\rho_i\\geq0\n",
    "    $$\n",
    "\n",
    "\n",
    "-   Roughly speaking then, if the decay kernel looks like a sum of\n",
    "    exponential decay terms, the optimal strategy under linear transient\n",
    "    impact consists of a block at the beginning, a block at the end and\n",
    "    continuous trading in-between.\n",
    "\n"
   ]
  },
  {
   "cell_type": "markdown",
   "metadata": {
    "slideshow": {
     "slide_type": "slide"
    }
   },
   "source": [
    "### Examples of functions that are not completely monotone\n",
    "\n",
    "-   Examples of these include\n",
    "\n",
    "    $$\n",
    "    G_3(\\tau) = \\frac{1}{1+\\tau^2}, \\quad G_4(\\tau)= (1-\\rho\\,\\tau)^+\n",
    "    $$\n",
    "\n",
    "\n",
    "-   $G_3(\\cdot)$ is not monotone because $G''(\\tau)$ changes sign.\n",
    "\n",
    "-   $G_4(\\cdot)$ is not monotone because it is not smooth (it has a\n",
    "    discontinuous first derivative).\n",
    "\n"
   ]
  },
  {
   "cell_type": "markdown",
   "metadata": {
    "slideshow": {
     "slide_type": "slide"
    }
   },
   "source": [
    "### Price-manipulation with nonlinear market impact\n",
    "\n",
    "<p>\n",
    "#### <font color=\"red\"> Proposition ([Gatheral, Schied and Slynko: Exponential resilience]<sup id=\"cite_ref-GatheralSchiedSlynko2\" class=\"reference\"><a href=\"#cite_note-GatheralSchiedSlynko2\"><span>[</span>7<span>]</span></a></sup>) \n",
    "\n",
    ">Assuming the price process\n",
    "$$S_t=S_0+\\int_0^t\\,h(v_s)\\,G(t-s)\\,ds+\\text{ noise},$$ consider a model\n",
    "with a general nonlinear instantaneous market impact function $h(\\cdot)$\n",
    "and a nonincreasing decay kernel $G(t)$ with\n",
    "$G(0) := \\lim_{t\\downarrow 0} G(t) <\\infty$. Then, such a model admits\n",
    "price manipulation.\n",
    "</font>\n",
    "\n",
    "\n",
    "-   The proof follows closely the proof for the special case of\n",
    "    exponential decay of market impact that we presented in Lecture 8.\n",
    "\n"
   ]
  },
  {
   "cell_type": "markdown",
   "metadata": {
    "slideshow": {
     "slide_type": "slide"
    }
   },
   "source": [
    "### Nonlinear transient market impact\n",
    "\n",
    "-   We know that the reaction of market price to quantity is in general\n",
    "    nonlinear.\n",
    "\n",
    "    -   Concave for small quantity and convex for large quantity.\n",
    "\n",
    "\n",
    "-   We also know that the market price reverts after completion of a\n",
    "    meta-order (using VWAP say).\n",
    "\n",
    "\n",
    "\n"
   ]
  },
  {
   "cell_type": "markdown",
   "metadata": {
    "slideshow": {
     "slide_type": "slide"
    }
   },
   "source": [
    "### A nonlinear transient market impact model\n",
    "\n",
    "Once again, the price process assumed in [Gatheral]<sup id=\"cite_ref-Gatheral\" class=\"reference\"><a href=\"#cite_note-Gatheral\"><span>[</span>4<span>]</span></a></sup> is\n",
    "\n",
    "<a name=\"eq:GatheralProcess\"></a>(8)\n",
    "$$S_t=S_0+\\int_0^t\\,h(v_s)\\,G(t-s)\\,ds+\\text{ noise}$$\n",
    "\n",
    "-   The instantaneous impact of a trade at time $s$ is given by\n",
    "    $h(v_s)$, some function of the rate of trading.\n",
    "\n",
    "-   A proportion $G(t-s)$ of this initial impact is still felt at time\n",
    "    $t>s$.\n",
    "\n"
   ]
  },
  {
   "cell_type": "markdown",
   "metadata": {
    "slideshow": {
     "slide_type": "slide"
    }
   },
   "source": [
    "### Optimal strategies in the transient impact model\n",
    "\n",
    "- In [Curato et al.]<sup id=\"cite_ref-Curato\" class=\"reference\"><a href=\"#cite_note-Curato\"><span>[</span>4<span>]</span></a></sup>, we show by numerical computation that in general the transient impact model admits transaction-triggered price manipulation.\n",
    "  \n",
    "  \n",
    "- This undesirable property of the model can be mitigated in at least two reasonable ways that reflect actual properties of the market:\n",
    "    - Including a bid-offer spread\n",
    "    - Making the instantaneous market impact function $h$ convex for large trading rates.\n",
    "  \n",
    "  "
   ]
  },
  {
   "cell_type": "markdown",
   "metadata": {
    "slideshow": {
     "slide_type": "subslide"
    }
   },
   "source": [
    "- We have not been able to find necessary or sufficient conditions to make the model well-behaved.\n",
    "    - It follows that in general, there is no optimal strategy in this model.\n",
    "    - However, in practice we can always restrict the set of admissible strategies."
   ]
  },
  {
   "cell_type": "markdown",
   "metadata": {
    "slideshow": {
     "slide_type": "slide"
    }
   },
   "source": [
    "### The square-root model\n",
    "\n",
    "Consider the following special case of [(8)](#eq:GatheralProcess) with\n",
    "$h(v)=\\frac  3 4 \\sigma\\,\\sqrt{{v}/{V}}$ and $G(\\tau)=1/\\sqrt{\\tau}$:\n",
    "\n",
    "<a name=\"eq:sqrt\"></a>(9)\n",
    "$$S_t=S_0+\\frac 3 4 \\,\\sigma\\, \\int_0^t\\,\\sqrt{ \\frac{v_s} V}\\,\\frac {ds}{\\sqrt{t-s}}+\\text{ noise}$$\n",
    "\n",
    "which we will call the <span>*square-root process*</span>."
   ]
  },
  {
   "cell_type": "markdown",
   "metadata": {
    "slideshow": {
     "slide_type": "subslide"
    }
   },
   "source": [
    "It is easy to verify that under the square-root process, the expected\n",
    "cost of a VWAP execution is given by the square-root formula for market\n",
    "impact:\n",
    "\n",
    "<a name=\"eq:sqrtFormula\"></a>(10)\n",
    "$$\\frac{\\mathcal{C} }{X}=\\sigma \\,\\sqrt{\\frac X V}$$\n",
    "\n",
    "-   Of course, that doesn’t mean that the square-root process is the\n",
    "    true underlying process!"
   ]
  },
  {
   "cell_type": "markdown",
   "metadata": {
    "slideshow": {
     "slide_type": "slide"
    }
   },
   "source": [
    "### Costing an interval VWAP strategy with square-root decay\n",
    "\n",
    "Suppose we partition the interval $\\{0,T\\}$ into $m$ subintervals\n",
    "$\\{0,t_1,t_2,..,t_{m-1},t_m=T\\}$ and suppose further that our rate of\n",
    "trading $v_t={\\dot x}_t$ is constant over each subinterval."
   ]
  },
  {
   "cell_type": "markdown",
   "metadata": {
    "slideshow": {
     "slide_type": "subslide"
    }
   },
   "source": [
    "The contribution to the cost from trading in the first subinterval is\n",
    "simply\n",
    "\n",
    "$$\n",
    "\\begin{eqnarray*}\n",
    "&&\\frac{x_1}{t_1}\\,h(v_1)\\,\\int_0^{t_1}\\,dt\\,\\int_0^{t}\\,\\frac{1}{\\sqrt{t-s}}\\,ds\\\\\n",
    "&=&2\\,\\frac{x_1}{t_1}\\,h(v_1)\\,\\int_0^{t_1}\\,dt\\,{\\sqrt{t}}\\\\\n",
    "&=&\\frac{4}{3}\\,x_1\\,h(v_1)\\,\\sqrt{t_1}\\end{eqnarray*}\n",
    "$$\n",
    "\n",
    "where $x_1$ is the number of shares liquidated in the first interval."
   ]
  },
  {
   "cell_type": "markdown",
   "metadata": {
    "slideshow": {
     "slide_type": "slide"
    }
   },
   "source": [
    "### Matrix elements\n",
    "\n",
    "In general, the $i$th self-interaction term is given by\n",
    "\n",
    "$$\n",
    "\\begin{eqnarray*}\n",
    "C_{ii}&=&\\frac{x_i}{t_{i}-t_{i-1}}\\,h(v_i)\\,\\int_{t_{i-1}}^{t_i}\\,dt\\,\\int_{t_{i-1}}^{t}\\,\\frac{1}{\\sqrt{t-s}}\\,ds\\\\\n",
    "&=&\n",
    "\\frac{4}{3}\\,x_i\\,h(v_i)\\,\\sqrt{t_i-t_{i-1}}.\n",
    "\\end{eqnarray*}\n",
    "$$"
   ]
  },
  {
   "cell_type": "markdown",
   "metadata": {
    "slideshow": {
     "slide_type": "subslide"
    }
   },
   "source": [
    "The contribution to the cost from trading in the $j$th subinterval\n",
    "related to trading in the $i$th subinterval with $i<j$ is given by\n",
    "\n",
    "$$\n",
    "\\begin{eqnarray*}\n",
    "C_{ji}&=&\\frac{x_j}{t_{j}-t_{j-1}}\\,h(v_i)\\,\\int_{t_{j-1}}^{t_j}\\,dt\\,\\int_{t_{i-1}}^{t_i}\\,\\frac{1}{\\sqrt{t-s}}\\,ds\\\\&=&\n",
    "\\frac{4}{3}\\,x_j\\,h(v_i)\\times\\\\&&\\frac{\\left(t_{j}-t_{i-1}\\right)^{3/2} \n",
    "-\\left(t_{j}-t_{i}\\right)^{3/2}\n",
    "-\\left(t_{j-1}-t_{i-1}\\right)^{3/2}\n",
    "+\\left(t_{j-1}-t_{i}\\right)^{3/2}\n",
    "}{t_{j}-t_{j-1}}\\end{eqnarray*}\n",
    "$$\n",
    "\n",
    "where $x_j$ is the number of shares liquidated in the $j$th\n",
    "sub-interval."
   ]
  },
  {
   "cell_type": "markdown",
   "metadata": {
    "slideshow": {
     "slide_type": "slide"
    }
   },
   "source": [
    "### Cost of liquidation\n",
    "\n",
    "The cost of liquidation is then given by\n",
    "\n",
    "<a name=\"eq:exactCost\"></a>(11)\n",
    "$$\\mathcal{C} =\\sum_{j=1}^m\\,C_{jj}+\\sum_{i< j}^m\\,C_{ji}$$\n",
    "\n",
    "-   For fixed $m$, we can then minimize $\\mathcal{C} $ with respect to\n",
    "    (for example) the $x_i$ and the positions of the $t_i$.\n",
    "\n"
   ]
  },
  {
   "cell_type": "markdown",
   "metadata": {
    "slideshow": {
     "slide_type": "slide"
    }
   },
   "source": [
    "### The optimal strategy under the square-root process\n",
    "\n",
    "-   It turns out that because $h(\\cdot)$ is concave, an optimal strategy\n",
    "    does not exist in the square-root model.\n",
    "\n",
    "    -   It is possible to drive the expected cost of trading to zero by\n",
    "        increasing the number of slices and decreasing the duration of\n",
    "        each slice.\n",
    "\n",
    "    -   To be more realistic, $h(v)$ must be convex for large $v$ and in\n",
    "        this case, an optimal strategy does exist that involves trading\n",
    "        in bursts, usually more than two.\n",
    "\n"
   ]
  },
  {
   "cell_type": "markdown",
   "metadata": {
    "slideshow": {
     "slide_type": "slide"
    }
   },
   "source": [
    "### Price path in the square-root model\n",
    "\n",
    "Figure 2: The expected path of the market price during and after execution of a VWAP order in the square-root model.\n",
    "<h2><img src=\"http://mfe.baruch.cuny.edu/wp-content/uploads/2015/04/PathSqrt.png\" align = \"center\" width=500></h2>\n",
    "\n",
    "-   The optimal strategy does not exist in this model.\n",
    "\n"
   ]
  },
  {
   "cell_type": "markdown",
   "metadata": {
    "slideshow": {
     "slide_type": "slide"
    }
   },
   "source": [
    "### Potential cost savings from optimal scheduling\n",
    "\n",
    "-   To estimate potential savings from optimal scheduling, assume that\n",
    "    the square-root process [(9)](#eq:sqrt) is correct and consider a one-day order to\n",
    "    sell 540,000 shares of IBM.\n",
    "\n",
    "    -   Daily volatility is assumed to be $2\\%$ and daily volume to be 6\n",
    "        million shares.\n",
    "\n",
    "    -   We consider liquidation starting at 09:45 and ending at 15:45\n",
    "        with child orders lasting 15 minutes."
   ]
  },
  {
   "cell_type": "markdown",
   "metadata": {
    "slideshow": {
     "slide_type": "subslide"
    }
   },
   "source": [
    "-   Because we are not confident in the square-root model for high\n",
    "    volume fractions, we constrain volume fraction to be no greater than\n",
    "    $25\\%$.\n",
    "\n",
    "\n",
    "-   We compare the costs of VWAP, a two-slice bucket-like strategy and a\n",
    "    quasi-optimal strategy that consists of seven roughly equal slices.\n",
    "\n",
    "    -   The quasi-optimal strategy consists of bursts of trading\n",
    "        separated by periods of non-trading."
   ]
  },
  {
   "cell_type": "markdown",
   "metadata": {
    "slideshow": {
     "slide_type": "slide"
    }
   },
   "source": [
    "### Stock trading schedules\n",
    "<h2><img src=\"http://mfe.baruch.cuny.edu/wp-content/uploads/2015/04/JOIM2011schedules.png\" align = \"center\" width=800></h2>"
   ]
  },
  {
   "cell_type": "markdown",
   "metadata": {
    "slideshow": {
     "slide_type": "slide"
    }
   },
   "source": [
    "### Comparison of results\n",
    "\n",
    "In the square-root model, the cost of a VWAP execution is given exactly by the square-root formula:\n",
    "\n",
    "$$\n",
    "\\sigma\\,\\sqrt{\\frac Q V}=0.02 \\times \\sqrt{\\frac {540} {6000}}=0.02\\times 0.3=60 \\text{ bp}.\n",
    "$$\n",
    "\n",
    "\n",
    "\n",
    "Strategy   | Cost | Saving |\n",
    " ------------ | :----------- | -----------: |\n",
    "VWAP       |  $60.0 $ bp    |   \n",
    "Bucket-like | $49.6$ bp | $17\\%$\n",
    "Quasi-optimal | $40.8$ bp | $32\\%$\n"
   ]
  },
  {
   "cell_type": "markdown",
   "metadata": {
    "slideshow": {
     "slide_type": "slide"
    }
   },
   "source": [
    "### Are these saving achievable?\n",
    "\n",
    "- If market impact of meta orders is all temporary, and ours is the only metaorder trading, then these savings should be achievable.\n",
    "\n",
    "\n",
    "- If there is a permanent component (roughly $2/3$ according to various empirical papers), the saving will be somewhat less.\n",
    "\n",
    "\n",
    "- Alternatively, if our metaorder is trading together with other metaorders in the same direction, the saving will be somewhat less."
   ]
  },
  {
   "cell_type": "markdown",
   "metadata": {
    "slideshow": {
     "slide_type": "slide"
    }
   },
   "source": [
    "### Adaptive trading\n",
    "\n",
    "- So far, we implicitly assumed that the market impact of a child order depends only on order flow.\n",
    "\n",
    "\n",
    "- In reality, it can depend on many other variables such as the shape of the order book."
   ]
  },
  {
   "cell_type": "markdown",
   "metadata": {
    "slideshow": {
     "slide_type": "subslide"
    }
   },
   "source": [
    "- The expected cost of the quasi-optimal strategy under square-root dynamics is sensitive only to the number of slices (and of course the maximum participation rate).\n",
    "     - The expected cost of the strategy is rather insensitive to the exact spacing of the slices."
   ]
  },
  {
   "cell_type": "markdown",
   "metadata": {
    "slideshow": {
     "slide_type": "subslide"
    }
   },
   "source": [
    "- We can thus send child orders whenever we expect less market impact.\n",
    "    - For example, trade when others want to trade with us.\n",
    "    - Trade when volatility is lower.\n",
    "    - Trade when there is a lot of market volume."
   ]
  },
  {
   "cell_type": "markdown",
   "metadata": {
    "slideshow": {
     "slide_type": "slide"
    }
   },
   "source": [
    "### Summary\n",
    "\n",
    "-   <span>The optimal trading strategy depends on the model.</span>\n",
    "\n",
    "    -   <span>For Almgren-Chriss style models, if the price of risk is\n",
    "        zero, the minimal cost strategy is VWAP.</span>\n",
    "\n",
    "    -   <span>In Alfonsi-Schied style models with resiliency that\n",
    "        depends only on the current spread, the minimal cost strategy is\n",
    "        to trade a block at inception, a block at completion and at a\n",
    "        constant rate in between.</span>\n",
    "\n",
    "    -   <span>More generally, if market impact is transient, the optimal\n",
    "        strategy involves bursts of trading; VWAP is never\n",
    "        optimal.</span>\n",
    "\n"
   ]
  },
  {
   "cell_type": "markdown",
   "metadata": {
    "slideshow": {
     "slide_type": "subslide"
    }
   },
   "source": [
    "-   We can state sufficient conditions on the price process [(8)](#eq:GatheralProcess) for it to\n",
    "    make sense:\n",
    "\n",
    "    -   There is no transaction-triggered price manipulation if the\n",
    "        kernel $G(\\cdot)$ is convex. It would seem reasonable to also\n",
    "        require complete monotonicity.\n",
    "\n",
    "    -   If market impact is nonlinear, the kernel $G(\\cdot)$ must be\n",
    "        singular at $t=0$.\n",
    "\n",
    "    -   A nonlinear instantaneous market impact function $h(\\cdot)$ must\n",
    "        be convex for sufficiently high trading rates for an optimal\n",
    "        strategy to exist."
   ]
  },
  {
   "cell_type": "markdown",
   "metadata": {
    "slideshow": {
     "slide_type": "subslide"
    }
   },
   "source": [
    "-   Assuming square-root dynamics consistent with the square-root market\n",
    "    impact formula, we showed that large cost savings are possible by\n",
    "    optimizing the scheduling strategy."
   ]
  },
  {
   "cell_type": "markdown",
   "metadata": {
    "slideshow": {
     "slide_type": "slide"
    }
   },
   "source": [
    "### References\n",
    "\n",
    "<br />\n",
    "\n",
    "<div class=\"reflist\" style=\"list-style-type: decimal;\">\n",
    "\n",
    "<ol>\n",
    "\n",
    "  <li id=\"cite_note-AlfonsiSchied\"><span class=\"mw-cite-backlink\"><b><a href=\"#cite_ref-AlfonsiSchied\">^</a></b></span>\n",
    "  Capacitary measures for completely monotone kernels via singular\n",
    "control, Alexander Schied and Aurélien Alfonsi, <span>*SIAM Journal on\n",
    "Control and Optimization*</span> <span>**51**</span>(2) 1758–1780\n",
    "(2013).\n",
    "  </li>\n",
    "  \n",
    "  <li id=\"cite_note-AlfonsiFruthSchied\"><span class=\"mw-cite-backlink\"><b><a href=\"#cite_ref-AlfonsiFruthSchied\">^</a></b></span>\n",
    "  Aurélien Alfonsi, Antje Fruth and Alexander Schied, Optimal execution\n",
    "strategies in limit order books with general shape functions,\n",
    "<span>*Quantitative Finance*</span> <span>**10**</span>(2) 143–157\n",
    "(2010).\n",
    "  </li>\n",
    "  \n",
    "  <li id=\"cite_note-AlfonsiSchiedSlynko\"><span class=\"mw-cite-backlink\"><b><a href=\"#cite_ref-AlfonsiSchiedSlynko\">^</a></b></span>\n",
    "  Aurélien Alfonsi, Alexander Schied and Alla Slynko, Order book\n",
    "resilience, price manipulation, and the positive portfolio problem,\n",
    "<span>*SIAM Journal on Financial Mathematics*</span>\n",
    "<span>**3**</span>(1) 511–533 (2012).\n",
    "  </li>\n",
    "  \n",
    "   <li id=\"cite_note-Curato\"><span class=\"mw-cite-backlink\"><b><a href=\"#cite_ref-Curato\">^</a></b></span>\n",
    "  Gianbiagio Curato, Jim Gatheral and Fabrizio Lillo, Optimal execution with nonlinear transient market impact,\n",
    "<span>*Quantitative Finance* **17**(1) 41-54 (2017). \n",
    "  </li>\n",
    "  \n",
    "  \n",
    "  <li id=\"cite_note-Gatheral\"><span class=\"mw-cite-backlink\"><b><a href=\"#cite_ref-Gatheral\">^</a></b></span>\n",
    "  Jim Gatheral, No-dynamic-arbitrage and market impact,\n",
    "<span>*Quantitative Finance*</span> <span>**10**</span>(7) 749–759\n",
    "(2010).\n",
    "  </li>\n",
    "  \n",
    "  <li id=\"cite_note-GatheralSchiedSlynko\"><span class=\"mw-cite-backlink\"><b><a href=\"#cite_ref-GatheralSchiedSlynko\">^</a></b></span>\n",
    "  Jim Gatheral, Alexander Schied and Alla Slynko, Transient linear price\n",
    "impact and Fredholm integral equations, <span>*Mathematical\n",
    "Finance*</span> <span>**22**</span>, 445–474 (2012).\n",
    "  </li>\n",
    "  \n",
    "  <li id=\"cite_note-GatheralSchiedSlynko2\"><span class=\"mw-cite-backlink\"><b><a href=\"#cite_ref-GatheralSchiedSlynko2\">^</a></b></span>\n",
    "  Jim Gatheral, Alexander Schied and Alla Slynko, Exponential resilience\n",
    "and decay of market impact, <span>*Econophysics of Order-Driven\n",
    "Markets*</span>, Springer, 225–236 (2011).\n",
    "  </li>\n",
    "  \n",
    "  <li id=\"cite_note-ObizhaevaWang\"><span class=\"mw-cite-backlink\"><b><a href=\"#cite_ref-ObizhaevaWang\">^</a></b></span>\n",
    "  Anna Obizhaeva and Jiang Wang, Optimal trading strategy and\n",
    "supply/demand dynamics, <span>*Journal of Financial Markets*</span>\n",
    "<span>**16**</span>(1) 1–32 (2013).\n",
    "  </li>\n",
    "  \n",
    "  <li id=\"cite_note-PredoiuShaikhetShreve\"><span class=\"mw-cite-backlink\"><b><a href=\"#cite_ref-PredoiuShaikhetShreve\">^</a></b></span>\n",
    "  Silviu Predoiu, Gennady Shaikhet and Steven Shreve, Optimal execution in\n",
    "a general one-sided limit-order book, <span>*SIAM Journal on Financial\n",
    "Mathematics*</span> (2012).\n",
    "  </li>\n",
    "\n",
    " \n",
    "  \n",
    "</ol>"
   ]
  }
 ],
 "metadata": {
  "celltoolbar": "Slideshow",
  "kernelspec": {
   "display_name": "R",
   "language": "R",
   "name": "ir"
  },
  "language_info": {
   "codemirror_mode": "r",
   "file_extension": ".r",
   "mimetype": "text/x-r-source",
   "name": "R",
   "pygments_lexer": "r",
   "version": "3.3.2"
  }
 },
 "nbformat": 4,
 "nbformat_minor": 1
}
