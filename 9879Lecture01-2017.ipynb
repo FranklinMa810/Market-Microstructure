{
 "cells": [
  {
   "cell_type": "markdown",
   "metadata": {
    "slideshow": {
     "slide_type": "slide"
    }
   },
   "source": [
    "\n",
    "## MTH 9879 Market Microstructure Models:    Spring 2017\n",
    "\n",
    "<p>\n",
    "\n",
    "### Lecture 1: Market mechanisms and zero intelligence models of the order book\n",
    "\n",
    "\n",
    "Jim Gatheral   \n",
    "Department of Mathematics   \n",
    "  \n",
    "  \n",
    "<h3><img src=\"http://mfe.baruch.cuny.edu/wp-content/uploads/2016/04/MFE-Logo.jpg\" align = \"right\" width=500></h3>\n",
    "\n",
    "\n",
    "\n",
    "$$\n",
    "\\newcommand{\\bea}{\\begin{eqnarray}}\n",
    "\\newcommand{\\eea}{\\end{eqnarray}}\n",
    "\\newcommand{\\beas}{\\begin{eqnarray*}}\n",
    "\\newcommand{\\eeas}{\\end{eqnarray*}}\n",
    "\\newcommand{\\supp}{\\mathrm{supp}}\n",
    "\\newcommand{\\F}{\\mathcal{F} }\n",
    "\\newcommand{\\cF}{\\mathcal{F} }\n",
    "\\newcommand{\\E}{\\mathbb{E} }\n",
    "\\newcommand{\\Eof}[1]{\\mathbb{E}\\left[ #1 \\right]}\n",
    "\\def\\Cov{{ \\mbox{Cov} }}\n",
    "\\def\\Var{{ \\mbox{Var} }}\n",
    "\\newcommand{\\1}{\\mathbf{1} }\n",
    "\\newcommand{\\p}{\\partial}\n",
    "\\newcommand{\\PP}{\\mathbb{P} }\n",
    "\\newcommand{\\Pof}[1]{\\mathbb{P}\\left[ #1 \\right]}\n",
    "\\newcommand{\\QQ}{\\mathbb{Q} }\n",
    "\\newcommand{\\R}{\\mathbb{R} }\n",
    "\\newcommand{\\DD}{\\mathbb{D} }\n",
    "\\newcommand{\\HH}{\\mathbb{H} }\n",
    "\\newcommand{\\spn}{\\mathrm{span} }\n",
    "\\newcommand{\\cov}{\\mathrm{cov} }\n",
    "\\newcommand{\\HS}{\\mathcal{L}_{\\mathrm{HS}} }\n",
    "\\newcommand{\\Hess}{\\mathrm{Hess} }\n",
    "\\newcommand{\\trace}{\\mathrm{trace} }\n",
    "\\newcommand{\\LL}{\\mathcal{L} }\n",
    "\\newcommand{\\s}{\\mathcal{S} }\n",
    "\\newcommand{\\ee}{\\mathcal{E} }\n",
    "\\newcommand{\\ff}{\\mathcal{F} }\n",
    "\\newcommand{\\hh}{\\mathcal{H} }\n",
    "\\newcommand{\\bb}{\\mathcal{B} }\n",
    "\\newcommand{\\dd}{\\mathcal{D} }\n",
    "\\newcommand{\\g}{\\mathcal{G} }\n",
    "\\newcommand{\\half}{\\frac{1}{2} }\n",
    "\\newcommand{\\T}{\\mathcal{T} }\n",
    "\\newcommand{\\bit}{\\begin{itemize}}\n",
    "\\newcommand{\\eit}{\\end{itemize}}\n",
    "\\newcommand{\\beq}{\\begin{equation}}\n",
    "\\newcommand{\\eeq}{\\end{equation}}\n",
    "\\newcommand{\\tr}{\\mbox{tr}}\n",
    "$$\n"
   ]
  },
  {
   "cell_type": "markdown",
   "metadata": {
    "slideshow": {
     "slide_type": "slide"
    }
   },
   "source": [
    "### Outline of Lecture 1\n",
    "\n",
    "* Overview of the course\n",
    "\n",
    "\n",
    "* Market structure\n",
    "\n",
    "    * Order types\n",
    "    \n",
    "    * Market types\n",
    "    \n",
    "    * Trading venues\n",
    "\n",
    "\n",
    "* A brief introduction to R\n",
    "\n",
    "\n",
    "* Zero intelligence models\n"
   ]
  },
  {
   "cell_type": "markdown",
   "metadata": {
    "slideshow": {
     "slide_type": "slide"
    }
   },
   "source": [
    "### Why study market microstructure?\n",
    "\n",
    "* To understand better how to trade: Specifically, how to design algorithms.\n",
    "\n",
    "    * Market microstructure theory could be viewed as the theory underlying algorithmic trading.\n",
    "\n",
    "\n",
    "* To be able to talk to informed clients.\n",
    "\n",
    "\n",
    "* To understand the process of price formation.\n"
   ]
  },
  {
   "cell_type": "markdown",
   "metadata": {
    "slideshow": {
     "slide_type": "slide"
    }
   },
   "source": [
    "### Aims of this course\n",
    "\n",
    "* To be able to read and understand market microstructure literature.\n",
    "\n",
    "    * In particular, to be familiar with well-known microstructure models.\n",
    "\n",
    "\n",
    "* To be familiar with empirical characteristics of order books and time series, understanding their implications for modeling and trading."
   ]
  },
  {
   "cell_type": "markdown",
   "metadata": {
    "slideshow": {
     "slide_type": "slide"
    }
   },
   "source": [
    "### Philosophical overview\n",
    "\n",
    "* Two extreme views of the market:\n",
    "    \n",
    "    * Completely random\n",
    "        \n",
    "        * The zero intelligence model associated with econophysics.\n",
    "        * Use of statistical physics techniques.\n",
    "\n",
    "    * Completely rational\n",
    "        * Strategic trader models associated with efficient markets theory.\n",
    "        * Game theoretic solutions.\n",
    "\n",
    "\n",
    "* Reality is somewhere in-between."
   ]
  },
  {
   "cell_type": "markdown",
   "metadata": {
    "slideshow": {
     "slide_type": "slide"
    }
   },
   "source": [
    "### Order types\n",
    "\n",
    "Two basic order types:\n",
    "\n",
    "* Market orders\n",
    "    * Always executed if there is sufficient quantity available.\n",
    "\n",
    "* Limit orders\n",
    "    * May be executed only if limit price reached (note \"may\" not \"will\"!).\n",
    "    * Typically priorities are price first, then time."
   ]
  },
  {
   "cell_type": "markdown",
   "metadata": {
    "slideshow": {
     "slide_type": "subslide"
    }
   },
   "source": [
    "There are many variations such as:\n",
    "\n",
    "* Fill or kill: Must be entirely filled <font color='red'>immediately</font> or not at all\n",
    "\n",
    "* Immediate or cancel: Fill immediately; remaining quantity is canceled\n",
    "\n",
    "* All or nothing: Must be entirely filled or not at all <font color='red'>when the price is reached</font>\n",
    "\n",
    "* Marketable limit buy order: Buy at limit price but no higher.  Remaining quantity becomes best bid."
   ]
  },
  {
   "cell_type": "markdown",
   "metadata": {
    "slideshow": {
     "slide_type": "slide"
    }
   },
   "source": [
    "## Hidden orders\n",
    "\n",
    "* Users may post hidden limit orders\n",
    "\n",
    "\n",
    "* Hidden orders have lower priority than visible orders at the same price level.\n",
    "\n",
    "\n",
    "* Hidden orders are often placed between the visible bid and ask prices so market order submitters may sometimes get a price that is better than the visible best quote."
   ]
  },
  {
   "cell_type": "markdown",
   "metadata": {
    "slideshow": {
     "slide_type": "slide"
    }
   },
   "source": [
    "### Market types\n",
    "\n",
    "* *Quote-driven* markets\n",
    "\n",
    "    * have market makers  responsible for continuously quoting two-way prices\n",
    "    * For example ISE <font color='red'>(Note: International Securities Market)</red>.\n",
    "\n",
    "\n",
    "* Liquidity in order-driven markets is generated by customer order flow.\n",
    "\n",
    "    * Limit orders in the book replace market-maker quotes.\n",
    "    * <font color='red'>Note: A quote driven market is an electronic stock exchange system in which prices are determined from bid and ask quotations made by market makers, dealers or specialists. In a quote driven market, also known as a price driven market, dealers fill orders from their own inventory or by matching them with other orders. A quote driven market is the opposite of an order driven market, which displays individual investors' bid and ask prices and the number of shares they want to trade.</red>"
   ]
  },
  {
   "cell_type": "markdown",
   "metadata": {
    "slideshow": {
     "slide_type": "subslide"
    }
   },
   "source": [
    "* Hybrid markets such as the NYSE are mixtures of both.\n",
    "\n",
    "    * For example, specialists are still responsible for ensuring two-way quotes in times of stress."
   ]
  },
  {
   "cell_type": "markdown",
   "metadata": {
    "slideshow": {
     "slide_type": "slide"
    }
   },
   "source": [
    "### Auction types\n",
    "\n",
    "Two basic types:\n",
    "\n",
    "* Batch auctions or <font color='red'>*call markets*</font>\n",
    "\n",
    "    * For example, opening and closing auctions on NYSE.\n",
    "    \n",
    "    * Trading takes place only when the market is <font color='red'>called</font>.\n",
    "        * Prices are \"called out\" until a price is found that maximizes the quantity traded."
   ]
  },
  {
   "cell_type": "markdown",
   "metadata": {
    "slideshow": {
     "slide_type": "subslide"
    }
   },
   "source": [
    "* Continuous auction or <font color='red'>*continuous markets*</font>\n",
    "\n",
    "    * For example trading during the day on NYSE.\n",
    "    * Trades can take place whenever the market is <font color='red'>open</font>.\n",
    "    * In a continuous market, the limit order book effectively defines supply and demand curves for the asset being traded."
   ]
  },
  {
   "cell_type": "markdown",
   "metadata": {
    "slideshow": {
     "slide_type": "slide"
    }
   },
   "source": [
    "### NYSE opening auction example\n",
    "\n",
    "Table 1: Example:  9:30am ET: Previous closing price of \\$17.00\n",
    "\n",
    "| Entry Time | Buy Limit Orders | Sell Limit Orders | Order Price | Matchable | Imbalance | Indicative Price |\n",
    "|:----------:|:----------------:|:-----------------:|:-----------:|:---------:|:---------:|:----------------:|\n",
    "|    8:30    |       1,000      |                   |    \\$19.00   |     0     |     0     |         -        |\n",
    "|    9:00    |                  |       1,000       |    Market   |   1,000   |     0     |      \\$19.00      |\n",
    "|    9:05    |       1,000      |                   |    \\$20.00   |   1,000   |     0     |      \\$20.00      |\n",
    "|    9:25    |                  |       1,000       |    \\$18.00   |   2,000   |     0     |      \\$18.00      |\n",
    "\n",
    "* The match price is the price that maximizes the volume that can be executed.\n",
    "\n",
    "* There are complicated rules for tie-breaking that vary between exchanges."
   ]
  },
  {
   "cell_type": "markdown",
   "metadata": {
    "slideshow": {
     "slide_type": "slide"
    }
   },
   "source": [
    "### Continuous trading\n",
    "\n",
    "* In the continuous trading session, orders are submitted and canceled. \n",
    "\n",
    "\n",
    "* The set of orders with signs, sizes and prices is known as the *limit order book*.\n",
    "\n"
   ]
  },
  {
   "cell_type": "markdown",
   "metadata": {
    "slideshow": {
     "slide_type": "slide"
    }
   },
   "source": [
    "### Trading venues\n",
    "\n",
    "In the US, trading takes place on\n",
    "\n",
    "* Organized exchanges such as NYSE and Nasdaq.\n",
    "    * Trading can be electronic via an ECN <font color='red'>(Note: Electronic Communication Network)</font>.\n",
    "    * Prices are formed through an auction process.\n",
    "\n",
    "\n",
    "* Crossing networks such as LiquidNet and POSIT\n",
    "    * Crosses occur with a *derivative* pricing rule.\n",
    "    * <font color='red'>Note: A crossing network is an alternative trading system (ATS) that matches buy and sell orders electronically for execution without first routing the order to an exchange or other displayed market, such as an electronic communication network (ECN), which displays a public quote.</font>"
   ]
  },
  {
   "cell_type": "markdown",
   "metadata": {
    "slideshow": {
     "slide_type": "subslide"
    }
   },
   "source": [
    "* Dark pools with derivative pricing rules\n",
    "    * Banks' internal crossing networks such as SIGMA X, CrossFinder, Instinct-X\n",
    "    * Other dark pools such as BIDS, Level etc."
   ]
  },
  {
   "cell_type": "markdown",
   "metadata": {
    "slideshow": {
     "slide_type": "subslide"
    }
   },
   "source": [
    "This excerpt taken from the ITG 10-K filed Mar 1, 2007.\n",
    "\n",
    "---\n",
    "\n",
    "**POSIT**\n",
    "\n",
    "ITG POSIT crossing destinations, including POSIT Match, POSIT Now, and BLOCKalert, give buyers and sellers opportunities to match equity orders with complete confidentiality, no market impact, <font color='red'>(Note: Jim said this is bs)</font> and the cost savings of midpoint pricing. POSIT offers unique value for traders with active, quantitative, and passive trading styles. POSIT provides access to rich, diverse liquidity, is useful for all trading styles and is especially valuable for trading small, illiquid names. All POSIT products cross at the midpoint of the National Best Bid or Offer (“NBBO”)."
   ]
  },
  {
   "cell_type": "markdown",
   "metadata": {
    "slideshow": {
     "slide_type": "slide"
    }
   },
   "source": [
    "### Reg. NMS\n",
    "\n",
    "<font color='red'>Note: Regulation National Market System (or Reg NMS) is a US financial regulation promulgated and described by the United States Securities and Exchange Commission (SEC) as \"a series of initiatives designed to modernize and strengthen the National Market System for equity securities.\"</font>\n",
    "\n",
    "From Wikipedia:\n",
    "\n",
    ">> In 2005, the rules promoting the national market system were consolidated into REG NMS. Some of the more notable rules include:\n",
    "\n",
    ">>Order Protection (or Trade Through) Rule - provides intermarket price priority for quotations that are immediately and automatically accessible (Rule 610)\n",
    "\n",
    ">>Access Rule - addresses access to market data such as quotations (Rule 611)\n",
    "\n",
    ">>Sub-Penny Rule - establishes minimum pricing increments (Rule 612)\n",
    "\n",
    ">>Market Data Rules.\n",
    "\n",
    "- This means in particular that even if there is insufficient quantity at the best quote in a given market, your market order may still be filled after rerouting to another market."
   ]
  },
  {
   "cell_type": "markdown",
   "metadata": {
    "slideshow": {
     "slide_type": "slide"
    }
   },
   "source": [
    "### The BATS order book\n",
    "\n",
    "* We proceed to give a few snapshots of the BATS order book.\n",
    "\n",
    "    * BATS is the third largest US exchange after NYSE and Nasdaq.  It has the reputation of being the fastest exchange.\n",
    "    - You can see the order book live here: http://www.batstrading.com/book/SPY/."
   ]
  },
  {
   "cell_type": "markdown",
   "metadata": {
    "slideshow": {
     "slide_type": "slide"
    }
   },
   "source": [
    "## BATS (BZX) order book for MSFT \n",
    "<font color='red'>Note: On BZX, you get paid by placing limit order, get charged by placing market order</font>\n",
    "\n",
    "<h2><img src=\"http://mfe.baruch.cuny.edu/wp-content/uploads/2016/01/BZX_MSFT.png\" align = \"center\" width=750></h2>\n",
    "\n",
    "<font color='red'>What's Jim's comments here...bid-ask spread in percentage makes a difference???</font>"
   ]
  },
  {
   "cell_type": "markdown",
   "metadata": {
    "slideshow": {
     "slide_type": "slide"
    }
   },
   "source": [
    "## BATS (BYX) order book for MSFT\n",
    "<font color='red'>Note: On BYX, opposite to BZX</font>\n",
    "\n",
    "<h2><img src=\"http://mfe.baruch.cuny.edu/wp-content/uploads/2016/01/BYX_MSFT.png\" align = \"center\" width=750></h2>\n",
    "\n",
    "<font color='red'>What's Jim's comments here???</font>\n"
   ]
  },
  {
   "cell_type": "markdown",
   "metadata": {
    "slideshow": {
     "slide_type": "slide"
    }
   },
   "source": [
    "## BATS (BZX) order book for BAC\n",
    "\n",
    "<h2><img src=\"http://mfe.baruch.cuny.edu/wp-content/uploads/2016/01/BZX_BAC.png\" align = \"center\" width=750></h2>\n",
    "\n",
    "<font color='red'>What's Jim's comments here???</font>"
   ]
  },
  {
   "cell_type": "markdown",
   "metadata": {
    "slideshow": {
     "slide_type": "slide"
    }
   },
   "source": [
    "## BATS (BYX) order book for BAC\n",
    "\n",
    "<h2><img src=\"http://mfe.baruch.cuny.edu/wp-content/uploads/2016/01/BYX_BAC.png\" align = \"center\" width=750></h2>\n",
    "\n",
    "<font color='red'>What's Jim's comments here???</font>"
   ]
  },
  {
   "cell_type": "markdown",
   "metadata": {
    "slideshow": {
     "slide_type": "slide"
    }
   },
   "source": [
    "## BATS (BZX) order book for GOOG\n",
    "\n",
    "<h2><img src=\"http://mfe.baruch.cuny.edu/wp-content/uploads/2016/01/BZX_GOOG.png\" align = \"center\" width=750></h2>\n",
    "\n",
    "<font color='red'>What's Jim's comments here???</font>"
   ]
  },
  {
   "cell_type": "markdown",
   "metadata": {
    "slideshow": {
     "slide_type": "slide"
    }
   },
   "source": [
    "## BATS (BYX) order book for GOOG\n",
    "\n",
    "<h2><img src=\"http://mfe.baruch.cuny.edu/wp-content/uploads/2016/01/BYX_GOOG.png\" align = \"center\" width=750></h2>\n",
    "\n",
    "<font color='red'>What's Jim's comments here???</font>\n"
   ]
  },
  {
   "cell_type": "markdown",
   "metadata": {
    "slideshow": {
     "slide_type": "slide"
    }
   },
   "source": [
    "### BZX and BYX\n",
    "\n",
    "* BZX gives a rebate to limit order submitters\n",
    "    * There is an incentive to place limit orders so the size at best quote is large.\n",
    "    * Market orders are small.\n",
    "\n",
    "\n",
    "* BYX gives a rebate to market order submitters.\n",
    "    * Queue sizes are smaller.\n",
    "    * Market orders are bigger."
   ]
  },
  {
   "cell_type": "markdown",
   "metadata": {
    "slideshow": {
     "slide_type": "subslide"
    }
   },
   "source": [
    "* Because of different fee structures on different exchanges, the displayed spread is not the true spread.\n",
    "\n",
    "\n",
    "- Current BATS fee schedules are available here: https://www.batstrading.com/support/fee_schedule/bzx/ and here https://www.batstrading.com/support/fee_schedule/byx/."
   ]
  },
  {
   "cell_type": "markdown",
   "metadata": {
    "slideshow": {
     "slide_type": "slide"
    }
   },
   "source": [
    "### BZX 2017 fee schedule\n",
    "\n",
    "<h2><img src=\"http://mfe.baruch.cuny.edu/wp-content/uploads/2017/01/BZX.png\" align = \"center\" width=900>"
   ]
  },
  {
   "cell_type": "markdown",
   "metadata": {
    "slideshow": {
     "slide_type": "slide"
    }
   },
   "source": [
    "## BYX 2017 fee schedule\n",
    "\n",
    "<h2><img src=\"http://mfe.baruch.cuny.edu/wp-content/uploads/2017/01/BYX.png\" align = \"center\" width=900></h2>"
   ]
  },
  {
   "cell_type": "markdown",
   "metadata": {
    "slideshow": {
     "slide_type": "slide"
    }
   },
   "source": [
    "### Large and small tick stocks\n",
    "\n",
    "<font color='red'>Note: A tick size is the minimum price movement of a trading instrument. The price movements of different trading instruments vary with the tick size representing the minimum incremental price movement that can be experienced on an exchange. The tick size increment is expressed in terms of dollars within U.S. markets.</font>\n",
    "\n",
    "* Stocks where the tick size is large relative to the price movement per trade are *large tick* stocks. Stocks where the tick size is small relative to the price movement per trade are *small tick* stocks. <font color='red'> Note: Why large tick stock exists???</font>\n",
    "    * BAC is a large tick stock.\n",
    "    * GOOG is a small tick stock.\n",
    "    * MSFT is a large tick stock."
   ]
  },
  {
   "cell_type": "markdown",
   "metadata": {
    "slideshow": {
     "slide_type": "subslide"
    }
   },
   "source": [
    "* A large tick stock has a spread of one tick nearly all of the time.\n",
    "\n",
    "\n",
    "* Conversely, the spread of a small tick stock is typically greater than one tick (one cent in the US)."
   ]
  },
  {
   "cell_type": "markdown",
   "metadata": {
    "slideshow": {
     "slide_type": "slide"
    }
   },
   "source": [
    "### The SFGK zero-intelligence model\n",
    "\n",
    "In this model due to Smith, Farmer, Gillemot and Krishnamurthy:\n",
    "\n",
    "* Limit orders can be placed at any integer price level $p$ where $-\\infty < p < \\infty$.\n",
    "    * If worried about negative prices, think of these as being logarithms of the actual price.\n",
    "\n",
    "\n",
    "* Limit sell orders may be placed at any level greater than the best bid $B(t)$ at time $t$ and limit buy orders at any level less than the best offer $A(t)$."
   ]
  },
  {
   "cell_type": "markdown",
   "metadata": {
    "slideshow": {
     "slide_type": "slide"
    }
   },
   "source": [
    "* In particular, just as in real markets, limit orders may be placed inside the spread (if the current spread is greater than one tick).\n",
    "\n",
    "* Market orders arrive randomly at rate $\\mu$.\n",
    "\n",
    "* Limit orders (per price level) arrive at rate $\\alpha$.\n",
    "\n",
    "* A proportion <font color='red'>(Note: cancellation is by proportion, not by shares. See dim analysis below)</font> $\\delta$ of existing limit orders is canceled <font color='red'>per unit time</font>.\n",
    "\n",
    "* All market orders and limit orders are for one share.\n",
    "\n",
    "*  All the order flows are modeled as Poisson processes. "
   ]
  },
  {
   "cell_type": "markdown",
   "metadata": {
    "slideshow": {
     "slide_type": "slide"
    }
   },
   "source": [
    "### Analysis of the SFGK order book model\n",
    "\n",
    "* The SFGK model depends on so few parameters that, even though it is capable of generating complex behavior, it remains amenable to analytical investigation.\n",
    "\n",
    "\n",
    "* For example, it is easy to see that the asymptotic book depth far away from the best quote must be given by $\\alpha/\\delta$.\n",
    "\n",
    "The argument goes as follows:\n"
   ]
  },
  {
   "cell_type": "markdown",
   "metadata": {
    "slideshow": {
     "slide_type": "slide"
    }
   },
   "source": [
    "### Asymptotic book depth\n",
    "\n",
    "* In the steady-state, orders arriving into the book must balance orders leaving the book.\n",
    "\n",
    "\n",
    "* Far away from the best quote, the probability of a limit order leaving the book as the result of an execution against a market order is very small."
   ]
  },
  {
   "cell_type": "markdown",
   "metadata": {
    "slideshow": {
     "slide_type": "subslide"
    }
   },
   "source": [
    "* Thus we need only consider new orders arriving balancing existing orders leaving due to cancelation. \n",
    "    * At a given price, for a fixed time interval $\\Delta$, the expected number of orders arriving is $\\alpha \\Delta$ and the expected number of orders canceled is $\\delta d\\Delta $ where $d$ is the number of shares at the book at that price level.    \n",
    "    * For these to balance, we must have $\\alpha \\Delta= \\delta d\\Delta$, or equivalently,\n",
    "     $$\n",
    "     d=\\frac{\\alpha}{\\delta}.\n",
    "     $$"
   ]
  },
  {
   "cell_type": "markdown",
   "metadata": {
    "slideshow": {
     "slide_type": "slide"
    }
   },
   "source": [
    "### Complex interactions\n",
    "\n",
    "* Although the model is simple to describe, its behavior can be rather complex.\n",
    "\n",
    "\n",
    "* For example, suppose there is one share at the best bid when the spread is two ticks.\n",
    "    * If a new buy order is placed inside the spread one tick below the best offer $A(t)$, the best bid $B(t)$ increases and the spread $s(t)$ decreases to one tick. \n",
    "    \n",
    "    * If a market sell order arrives, the book will revert to its initial state."
   ]
  },
  {
   "cell_type": "markdown",
   "metadata": {
    "slideshow": {
     "slide_type": "subslide"
    }
   },
   "source": [
    "* Now suppose that the same events occur but in the reverse order.\n",
    "    * The market sell order <font color='red'>increases the spread to three ticks (Note: why???)</font> and a new limit buy order is placed one tick below the best offer.\n",
    "    \n",
    "    * The spread decreases to one tick.\n",
    "\n",
    "\n",
    "* The resulting book shape and even the mid-quote are quite different."
   ]
  },
  {
   "cell_type": "markdown",
   "metadata": {
    "slideshow": {
     "slide_type": "slide"
    }
   },
   "source": [
    "### Distribution of order depth\n",
    "\n",
    "* In the SFGK model, the distribution of order depth is a function of distance to the best quote.\n",
    "    * Conditional on no change in the best quotes, order depth would be i.i.d at any given level of the book deeper\n",
    "    than the best quote.\n",
    "    \n",
    "    * In fact, as shown by SFGK, this distribution is Poisson with mean $\\alpha/\\delta$. \n",
    "    \n",
    "    * However, as the order book evolves, the best quote prices do move, and each level in the book retains some memory of having been \"visited\" by the market price at some prior time."
   ]
  },
  {
   "cell_type": "markdown",
   "metadata": {
    "slideshow": {
     "slide_type": "subslide"
    }
   },
   "source": [
    "* Strictly speaking, order depth distributions are therefore conditional on the entire history of the order book and in particular on the distance to the best quote.\n",
    "\n",
    "\n",
    "* The further away a given level is from the best quote, the closer the order depth distribution will be to Poisson."
   ]
  },
  {
   "cell_type": "markdown",
   "metadata": {
    "slideshow": {
     "slide_type": "slide"
    }
   },
   "source": [
    "### Dimensional analysis\n",
    "\n",
    "* Dimensional analysis is a favorite tool of physicists used to guess the relationships between model outputs and parameters.\n",
    "    * Effectively using information about scaling relationships."
   ]
  },
  {
   "cell_type": "markdown",
   "metadata": {
    "slideshow": {
     "slide_type": "subslide"
    }
   },
   "source": [
    "* The dimensions of the parameters of the SFGK model are as follows:\n",
    "\n",
    "| Parameter | Dimensions       |\n",
    "|:-----------:|:------------------:|\n",
    "|    $\\mu$       | shares/T        |\n",
    "|    $\\alpha$       | shares/(ticks T) <font color='red'>Note: ticks or prices</font> |\n",
    "|    $\\delta$       | 1/T              |\n",
    "\n",
    "* In the following we use these parameter dimensions to guess the functional form of relationships between measurable quantities of interest and the input parameters."
   ]
  },
  {
   "cell_type": "markdown",
   "metadata": {
    "slideshow": {
     "slide_type": "slide"
    }
   },
   "source": [
    "### Inverse table\n",
    "\n",
    "* For convenience, we provide (unique) expressions for dimensions in terms of input parameters.\n",
    "\n",
    "* Inverting the previous table gives\n",
    "\n",
    "| Dimensions | Parameter combinations |\n",
    "|:----------:|:----------------------:|\n",
    "|   shares   |        $\\mu$ / $\\delta$       |\n",
    "|      T     |    1 / $\\delta$    |\n",
    "|    ticks   |           $\\mu$ / $\\alpha$          |"
   ]
  },
  {
   "cell_type": "markdown",
   "metadata": {
    "slideshow": {
     "slide_type": "slide"
    }
   },
   "source": [
    "### Asymptotic book depth\n",
    "\n",
    "* The asymptotic depth $d$ of the book far away from mid-market has the dimensions of $shares$ per $tick$.  The only combination of parameters with these dimensions is $\\alpha/\\delta$.\n",
    "\n",
    "\n",
    "* As we saw earlier, the exact result is in fact just $\\alpha/\\delta$ so the guess in this case is exactly correct."
   ]
  },
  {
   "cell_type": "markdown",
   "metadata": {
    "slideshow": {
     "slide_type": "slide"
    }
   },
   "source": [
    "### The spread\n",
    "\n",
    "* The spread has dimensions of $ticks$ and the only combination of parameters with these dimensions is $\\mu/\\alpha$.\n",
    "\n",
    "\n",
    "* Arguing more directly, inside the spread, limit orders are mostly removed by market orders.\n",
    "    \n",
    "    * The total rate of arrival of limit orders is $2\\,\\alpha\\,s$ where $s$ is the steady-state spread because as explained earlier, buy and sell orders may be placed at all levels at the spread or better.\n",
    "    \n",
    "    * The rate of removal of limit orders is just the rate of market orders $\\mu$."
   ]
  },
  {
   "cell_type": "markdown",
   "metadata": {
    "slideshow": {
     "slide_type": "subslide"
    }
   },
   "source": [
    "* We deduce that (roughly at least)\n",
    "    $$\n",
    "    s \\sim \\frac{\\mu}{2\\,\\alpha}\n",
    "    $$"
   ]
  },
  {
   "cell_type": "markdown",
   "metadata": {
    "slideshow": {
     "slide_type": "slide"
    }
   },
   "source": [
    "### The slope of the order book\n",
    "\n",
    "* This quantity has dimensions of $shares$ per $tick$ per $tick$ (the derivative with respect to ticks of the limit order density).\n",
    "\n",
    "\n",
    "* The only combination of parameters that has these dimensions is\n",
    "    \n",
    "    $$\n",
    "    \\frac{\\alpha^2}{\\mu\\,\\delta}.\n",
    "    $$\n"
   ]
  },
  {
   "cell_type": "markdown",
   "metadata": {
    "slideshow": {
     "slide_type": "slide"
    }
   },
   "source": [
    "### Volatility\n",
    "\n",
    "* The variance of the times series of trade prices generated in this model must have dimensions $ticks^2/T$.\n",
    "\n",
    "\n",
    "* Dimensional arguments imply that variance per unit time must therefore be proportional to\n",
    "\n",
    "    $$\n",
    "    \\frac{\\mu^2\\,\\delta}{\\alpha^2}\n",
    "    $$\n",
    "\n",
    "* Thus volatility must scale as\n",
    "    \n",
    "    $$\n",
    "    \\frac{\\mu\\,\\sqrt{\\delta}}{\\alpha}\n",
    "    $$"
   ]
  },
  {
   "cell_type": "markdown",
   "metadata": {
    "slideshow": {
     "slide_type": "slide"
    }
   },
   "source": [
    "### Average quote size\n",
    "\n",
    "\n",
    "* The average quote size $Q$ should be given roughly by the cumulative steady-state inventory $s/2$ ticks away from mid-market where $s$ is the average spread. <font color='red'>Note: ???</font>\n",
    "\n",
    "* Thus\n",
    "    \n",
    "    $$\n",
    "    Q \\sim s^2\\,\\frac{\\alpha^2}{\\mu\\,\\delta} \\sim\n",
    "    \\frac{\\mu^2}{\\alpha^2}\\,\\frac{\\alpha^2}{\\mu\\,\\delta}=\\frac{\\mu}{\\delta}\n",
    "    $$\n",
    "    \n",
    "    as we would expect because once again, ${\\mu}/{\\delta}$ is the only combination of parameters with dimensions of $shares$.\n",
    "\n"
   ]
  },
  {
   "cell_type": "markdown",
   "metadata": {
    "slideshow": {
     "slide_type": "slide"
    }
   },
   "source": [
    "### Characteristic share quantity\n",
    "\n",
    "The only quantity that can be formed from the model parameters with\n",
    "the dimensions of $shares$ is the characteristic share quantity\n",
    "\n",
    "$$\n",
    "N_c=\\frac{\\mu}{2\\,\\delta}\n",
    "$$"
   ]
  },
  {
   "cell_type": "markdown",
   "metadata": {
    "slideshow": {
     "slide_type": "slide"
    }
   },
   "source": [
    "### Market impact\n",
    "\n",
    "The most familiar market impact model is $\\sigma\\,\\sqrt{L}$ where $\\sigma$ is volatility the liquidity $L$ is fraction of average daily volume.  In this model, for a given number of shares $n$,\n",
    "\n",
    "$$\n",
    "L=\\frac{n}{\\mu} \\sim \\left[T\\right]^{-1}\n",
    "$$\n",
    "\n",
    "and as shown above\n",
    "\n",
    "$$\n",
    "\\sigma \\sim \\frac{\\mu\\,\\sqrt{\\delta}}{\\alpha}\n",
    "$$"
   ]
  },
  {
   "cell_type": "markdown",
   "metadata": {
    "slideshow": {
     "slide_type": "subslide"
    }
   },
   "source": [
    "Re-expressing that model of market impact in terms of the parameters\n",
    "of the SFGK model gives\n",
    "\n",
    "$$\n",
    "I(n) \\sim\n",
    "\\frac{\\mu\\,\\sqrt{\\delta}}{\\alpha}\\,\\sqrt{\\frac{n}{\\mu}}=\\frac{1}{\\alpha}\\,\\sqrt{{\\mu\\,\\delta\\,n}}\n",
    "$$\n",
    "\n",
    "which has the correct dimensions of $ticks$.<font color='red'>Note: ???</font>"
   ]
  },
  {
   "cell_type": "markdown",
   "metadata": {
    "slideshow": {
     "slide_type": "slide"
    }
   },
   "source": [
    "### Market impact in general\n",
    "\n",
    "* In general, no matter what the form of market impact, for a given number of shares $n$ the impact must have dimensions of $ticks$.\n",
    "\n",
    "\n",
    "* The only combination of parameters with dimensions of $ticks$ is ${\\mu}/{\\alpha}$."
   ]
  },
  {
   "cell_type": "markdown",
   "metadata": {
    "slideshow": {
     "slide_type": "subslide"
    }
   },
   "source": [
    "* We deduce that the general form of market impact must be\n",
    "\n",
    "    $$\n",
    "    I(n)\\sim\\frac{\\mu}{\\alpha}\\,f\\left(\\frac{n}{N_c}\\right)=\\frac{\\mu}{\\alpha}\\,f\\left(\\frac{2\\,\\delta\\,n}{\\mu}\\right)\n",
    "    $$\n",
    "    \n",
    "    for some function $f(.)$.\n",
    "\n",
    "\n",
    "* Clearly, the square-root model of market impact is consistent with this."
   ]
  },
  {
   "cell_type": "markdown",
   "metadata": {
    "slideshow": {
     "slide_type": "slide"
    }
   },
   "source": [
    "### Realism of SFGK model\n",
    "\n",
    "* In real markets,  order depth falls off rapidly away from the best quote. \n",
    "\n",
    "\n",
    "* We would therefore not expect the behavior of the SFGK model deep in the order book to accurately mimic a real market.\n",
    "\n",
    "\n",
    "* However, close to the best quote, the SFGK model *does* appear to capture some salient aspects of real markets."
   ]
  },
  {
   "cell_type": "markdown",
   "metadata": {
    "slideshow": {
     "slide_type": "subslide"
    }
   },
   "source": [
    "* For example:\n",
    "\n",
    "    * A model in a similar style was shown by Bollerslev, Domowitz and Wang to accurately predict the distribution of bid-offer spreads in the foreign exchange market.\n",
    "    \n",
    "    * Farmer, Patelli and Zovko estimated $\\mu$, $\\alpha$ and $\\delta$ from London Stock Exchange SETS order book data, comparing average actual bid-offer spreads and volatilities against SFGK model predictions and finding agreement to be quite good.\n",
    "\n",
    "\n",
    "* As we shall see, there are inevitably some aspects of real markets that zero-intelligence models cannot mimic, notably those associated with strategic behavior of traders."
   ]
  },
  {
   "cell_type": "markdown",
   "metadata": {
    "slideshow": {
     "slide_type": "slide"
    }
   },
   "source": [
    "### Implementation of the SFGK model\n",
    "\n",
    "* It is impossible to simulate order arrivals and cancelations at integer price levels from $-\\infty$ to $+\\infty$.\n",
    "\n",
    "\n",
    "* So consider only order arrivals and cancelations in a moving band of width $L$ centered around the current best quotes.\n",
    "\n",
    "    * $L$ should be chosen conservatively so as to ensure minimal edge effects.\n",
    "    * Within the band, the arrival rate of limit orders is $\\alpha$, cancelation rate is $\\delta$ times outstanding shares.\n",
    "    * Outside the band, orders may neither arrive nor be canceled.\n"
   ]
  },
  {
   "cell_type": "markdown",
   "metadata": {
    "slideshow": {
     "slide_type": "slide"
    }
   },
   "source": [
    "### Notation\n",
    "\n",
    "Table 2: Order book events\n",
    "\n",
    "|       Event       | Notation |\n",
    "|:-----------------:|:--------:|\n",
    "|  Limit buy order  |    LB    |\n",
    "|  Market buy order |    MB    |\n",
    "|  Cancel buy order |    CB    |\n",
    "| Market sell order |    MS    |\n",
    "|  Limit sell order |    LS    |\n",
    "| Cancel sell order |    CS    |\n",
    "\n",
    "We denote the probability of an event by $\\PP_{event}$"
   ]
  },
  {
   "cell_type": "markdown",
   "metadata": {
    "slideshow": {
     "slide_type": "slide"
    }
   },
   "source": [
    "### SFGK pseudo-code\n",
    "\n",
    "<p>\n",
    "\n",
    "\n",
    "\n",
    "<font color=\"red\">\n",
    "\n",
    "- Compute the best bid $B(t)$ and best offer $A(t)$.\n",
    "\n",
    "\n",
    "\n",
    "- Compute the number $n_{B}$ of shares on the bid side of the book from level $A(t)-1$ to level\n",
    "$A(t)-L$.\n",
    "\n",
    "- Compute the number $n_{A}$ of shares on the offered side of the book\n",
    "from level $B(t)+1$ to level $B(t)+L$."
   ]
  },
  {
   "cell_type": "markdown",
   "metadata": {
    "slideshow": {
     "slide_type": "subslide"
    }
   },
   "source": [
    "<font color=\"red\">\n",
    "\n",
    "- Draw a new event according to the relative probabilities\n",
    "$\n",
    "\\left\\{\\PP_{MB}, \\PP_{MS},\n",
    "\\PP_{LB}, \\PP_{LS}, \\PP_{CS}, \\PP_{CB}\\right\\} \\propto \\left\\{\\mu/2, \\mu/2,\n",
    "L\\,\\alpha, L\\,\\alpha, \\delta\\,{n_A}, \\delta\\,{n_B} \\right\\}\n",
    "$.\n",
    "\n",
    "    - If the selected event is a limit order, draw the relative\n",
    "price level from $\\left\\{1,2,\\ldots,L\\right\\}$.\n",
    "    - If the selected event is a cancelation, select randomly which order within the band to cancel.\n",
    "\n",
    "\n",
    "- Update the order book and increment $t$."
   ]
  },
  {
   "cell_type": "markdown",
   "metadata": {
    "slideshow": {
     "slide_type": "slide"
    }
   },
   "source": [
    "### Ouputs of simulation\n",
    "\n",
    "This simulation procedure yields a time series of order book data from which we extract\n",
    "quantities of interest such as spread, mid-quote etc.\n",
    "<h2><img src=\"http://mfe.baruch.cuny.edu/wp-content/uploads/2015/01/ZI-price.png\" align = \"center\" width=400></h2>\n",
    "\n",
    "Figure 1: A typical sample path"
   ]
  },
  {
   "cell_type": "markdown",
   "metadata": {
    "slideshow": {
     "slide_type": "slide"
    }
   },
   "source": [
    "### Introduction to R\n",
    "\n",
    "There are many places to learn about R.  I recommend:\n",
    "\n",
    "* *R for Beginners* by Emmanuel Paradis available at http://cran.r-project.org/doc/contrib/Paradis-rdebuts_en.pdf\n",
    "\n",
    "\n",
    "* *R for MATLAB users* available at http://mathesaurus.sourceforge.net/octave-r.html\n"
   ]
  },
  {
   "cell_type": "markdown",
   "metadata": {
    "slideshow": {
     "slide_type": "slide"
    }
   },
   "source": [
    "### R implementation of ZI simulation"
   ]
  },
  {
   "cell_type": "code",
   "execution_count": 1,
   "metadata": {
    "collapsed": false,
    "slideshow": {
     "slide_type": "fragment"
    }
   },
   "outputs": [],
   "source": [
    "download.file(url=\"http://mfe.baruch.cuny.edu/wp-content/uploads/2015/01/ziSetup.zip\", destfile=\"ziSetup.zip\")\n",
    "unzip(zipfile=\"ziSetup.zip\")\n",
    "\n",
    "source(\"ziSetup.R\")"
   ]
  },
  {
   "cell_type": "markdown",
   "metadata": {
    "slideshow": {
     "slide_type": "slide"
    }
   },
   "source": [
    "### What is inside `ziSetup.R`?"
   ]
  },
  {
   "cell_type": "code",
   "execution_count": 2,
   "metadata": {
    "collapsed": true,
    "slideshow": {
     "slide_type": "slide"
    }
   },
   "outputs": [],
   "source": [
    "#Book setup\n",
    "L <- 30 #Set number of price levels to be included in iterations\n",
    "\n",
    "# Generate initial book\n",
    "LL <- 1000 #Total number of levels in buy and sell books"
   ]
  },
  {
   "cell_type": "code",
   "execution_count": 3,
   "metadata": {
    "collapsed": false,
    "slideshow": {
     "slide_type": "subslide"
    }
   },
   "outputs": [],
   "source": [
    "# Initialize book with asymptotic depth of 5 shares\n",
    "initializeBook5 <- function()\n",
    "{\n",
    "  Price <<- -LL:LL    \n",
    "  # Book shape is set to equal long-term average from simulation\n",
    "  buySize <<- c(rep(5,LL-8),5,4,4,3,3,2,2,1,rep(0,LL+1))\n",
    "  sellSize <<- c(rep(0,LL),0,1,2,2,3,3,4,4,5,rep(5,LL-8))\n",
    "  book <<- data.frame(Price, buySize, sellSize ) \n",
    "  if(logging==T){eventLog <<- as.data.frame(matrix(0,nrow=numEvents,ncol=2))\n",
    "  colnames(eventLog)<<-c(\"Type\",\"Price\")\n",
    "  count <<- 0\n",
    "  eventType <<- c(\"LB\",\"LS\",\"CB\",\"CS\",\"MB\",\"MS\")\n",
    "  eventDescr <<- NA}\n",
    "}"
   ]
  },
  {
   "cell_type": "code",
   "execution_count": 4,
   "metadata": {
    "collapsed": true,
    "slideshow": {
     "slide_type": "slide"
    }
   },
   "outputs": [],
   "source": [
    "#Various utility functions\n",
    "bestOffer <- function(){min(book$Price[book$sellSize>0])}\n",
    "bestBid <- function(){max(book$Price[book$buySize>0])}\n",
    "spread <- function(){bestOffer()-bestBid()}\n",
    "mid <- function(){(bestOffer()+bestBid())/2}\n",
    "\n",
    "#Functions to find mid-market\n",
    "bidPosn<-function()length(book$buySize[book$Price<=bestBid()])\n",
    "askPosn<-function()length(book$sellSize[book$Price<=bestOffer()])\n",
    "midPosn<-function(){floor((bidPosn()+askPosn())/2)}"
   ]
  },
  {
   "cell_type": "code",
   "execution_count": 5,
   "metadata": {
    "collapsed": false,
    "slideshow": {
     "slide_type": "subslide"
    }
   },
   "outputs": [],
   "source": [
    "#Display center of book\n",
    "go <- function(){book[(midPosn()-20):(midPosn()+20),]}\n",
    "\n",
    "#Display book shape\n",
    "bookShape<-function(band){c(book$buySize[midPosn()+(-band:0)],book$sellSize[midPosn()+1:band])}\n",
    "bookPlot<-function(band){\n",
    "  plot((-band:band),bookShape(band),\n",
    "       col=\"red\",type=\"l\",xlab=\"Price\",ylab=\"Quantity\")\n",
    "}"
   ]
  },
  {
   "cell_type": "code",
   "execution_count": 6,
   "metadata": {
    "collapsed": true,
    "slideshow": {
     "slide_type": "subslide"
    }
   },
   "outputs": [],
   "source": [
    "#Choose from L whole numbers in (1,...,L) with uniform probability\n",
    "pick <- function(m){sample(1:m,1)}\n",
    "\n",
    "# Switch logging on\n",
    "logging <- T"
   ]
  },
  {
   "cell_type": "code",
   "execution_count": 7,
   "metadata": {
    "collapsed": true,
    "slideshow": {
     "slide_type": "subslide"
    }
   },
   "outputs": [],
   "source": [
    "#Buy limit order\n",
    "limitBuyOrder <- function(price=NA){\n",
    "  if (is.na(price))\n",
    "  {prx <<- (bestOffer()-pick(L))}\n",
    "  else prx <<-price  \n",
    "  if(logging==T){eventLog[count,]<<- c(\"LB\",prx)} \n",
    "  book$buySize[book$Price==prx]<<-book$buySize[book$Price==prx]+1} "
   ]
  },
  {
   "cell_type": "code",
   "execution_count": 8,
   "metadata": {
    "collapsed": true,
    "slideshow": {
     "slide_type": "subslide"
    }
   },
   "outputs": [],
   "source": [
    "#Sell limit order\n",
    "limitSellOrder <- function(price=NA){\n",
    "  if (is.na(price))\n",
    "  {prx <<- (bestBid()+pick(L))}\n",
    "  else prx <<-price  \n",
    "  if(logging==T){eventLog[count,] <<- c(\"LS\",prx)}  \n",
    "  book$sellSize[book$Price==prx]<<-book$sellSize[book$Price==prx]+1} "
   ]
  },
  {
   "cell_type": "code",
   "execution_count": 9,
   "metadata": {
    "collapsed": true,
    "slideshow": {
     "slide_type": "subslide"
    }
   },
   "outputs": [],
   "source": [
    "#Cancel buy order            \n",
    "cancelBuyOrder<-function(price=NA){\n",
    "  q<-pick(nb) \n",
    "  tmp <- cumsum(rev(book$buySize))  #Cumulative buy size from 0\n",
    "  posn <- length(tmp[tmp>=q]) #gives position in list where cumulative size >q\n",
    "  prx <<- book$Price[posn] \n",
    "  if (!is.na(price)) {prx <<-price} \n",
    "  if(logging==T){eventLog[count,]<<- c(\"CB\",prx)} \n",
    "  book$buySize[posn]<<-book$buySize[posn]-1}"
   ]
  },
  {
   "cell_type": "code",
   "execution_count": 10,
   "metadata": {
    "collapsed": true,
    "slideshow": {
     "slide_type": "subslide"
    }
   },
   "outputs": [],
   "source": [
    "#Cancel sell order\n",
    "cancelSellOrder<-function(price=NA){\n",
    "  q<-pick(ns) \n",
    "  tmp <- cumsum(book$sellSize)  #Cumulative sell size from 0\n",
    "  posn <- length(tmp[tmp<q])+1 \n",
    "  prx <<- book$Price[posn] \n",
    "  if (!is.na(price)) {prx <<-price}  \n",
    "  if(logging==T){eventLog[count,]<<- c(\"CS\",prx)} \n",
    "  book$sellSize[posn]<<-book$sellSize[posn]-1}"
   ]
  },
  {
   "cell_type": "code",
   "execution_count": 11,
   "metadata": {
    "collapsed": true,
    "slideshow": {
     "slide_type": "subslide"
    }
   },
   "outputs": [],
   "source": [
    "#Market buy order\n",
    "marketBuyOrder <- function(){\n",
    "  prx <<- bestOffer() \n",
    "  if(logging==T){eventLog[count,]<<- c(\"MB\",prx)} \n",
    "  book$sellSize[book$Price==prx]<<-book$sellSize[book$Price==prx]-1}"
   ]
  },
  {
   "cell_type": "code",
   "execution_count": 12,
   "metadata": {
    "collapsed": false,
    "slideshow": {
     "slide_type": "subslide"
    }
   },
   "outputs": [],
   "source": [
    "#Market sell order\n",
    "marketSellOrder <- function(){\n",
    "  prx <<- bestBid() \n",
    "  if(logging==T){eventLog[count,]<<- c(\"MS\",prx)} \n",
    "  book$buySize[book$Price==prx]<<-book$buySize[book$Price==prx]-1}"
   ]
  },
  {
   "cell_type": "markdown",
   "metadata": {
    "slideshow": {
     "slide_type": "slide"
    }
   },
   "source": [
    "\n",
    "### Generate an event and update the buy and sell books\n",
    "\n",
    "- Note that limit orders may be placed inside the spread"
   ]
  },
  {
   "cell_type": "code",
   "execution_count": 13,
   "metadata": {
    "collapsed": false,
    "slideshow": {
     "slide_type": "fragment"
    }
   },
   "outputs": [],
   "source": [
    "generateEvent <- function()\n",
    "    {\n",
    "    nb <<- sum(book$buySize[book$Price>=(bestOffer()-L)]) # Number of cancelable buy orders\n",
    "    ns <<- sum(book$sellSize[book$Price<=(bestBid()+L)]) # Number of cancelable sell orders\n",
    "    eventRate <- nb*delta + ns*delta + mu + 2*L*alpha\n",
    "    probEvent <- c(L*alpha,L*alpha,nb*delta,ns*delta,mu/2,mu/2)/eventRate\n",
    "    m <- sample(1:6, 1, replace = TRUE, probEvent) #Choose event type\n",
    "    switch(m,\n",
    "            limitBuyOrder(),\n",
    "            limitSellOrder(),\n",
    "            cancelBuyOrder(),\n",
    "            cancelSellOrder(),\n",
    "            marketBuyOrder(),\n",
    "            marketSellOrder()\n",
    "            )\n",
    "    }"
   ]
  },
  {
   "cell_type": "markdown",
   "metadata": {
    "slideshow": {
     "slide_type": "slide"
    }
   },
   "source": [
    "### Average book shape in the  ZI simulation"
   ]
  },
  {
   "cell_type": "code",
   "execution_count": 14,
   "metadata": {
    "collapsed": true,
    "slideshow": {
     "slide_type": "fragment"
    }
   },
   "outputs": [],
   "source": [
    "# Figure 2: Average book shape\n",
    "\n",
    "logging <- F # Very important for speed!\n",
    "\n",
    "alpha <- 1\n",
    "mu <- 50\n",
    "delta <- 1/5 \n",
    "initializeBook5()\n",
    "# Burn in for 100 events\n",
    "for(count in 1:100){\n",
    "  generateEvent()\n",
    "}\n",
    "numEvents <- 10000 # Average over 10,000 events\n",
    "avgBookShape <- bookShape(20)/numEvents\n",
    "for(count in 2:numEvents){\n",
    "  generateEvent()\n",
    "  avgBookShape <- avgBookShape+bookShape(20)/numEvents\n",
    "}"
   ]
  },
  {
   "cell_type": "code",
   "execution_count": 15,
   "metadata": {
    "collapsed": true,
    "slideshow": {
     "slide_type": "subslide"
    }
   },
   "outputs": [],
   "source": [
    "library(repr)\n",
    "options(repr.plot.height=5)"
   ]
  },
  {
   "cell_type": "code",
   "execution_count": 16,
   "metadata": {
    "collapsed": false,
    "slideshow": {
     "slide_type": "fragment"
    }
   },
   "outputs": [
    {
     "data": {
      "image/png": "[encoded data removed]",
      "text/plain": [
       "Plot with title “NA”"
      ]
     },
     "metadata": {},
     "output_type": "display_data"
    }
   ],
   "source": [
    "plot(-20:20,avgBookShape,main=NA,xlab=\"Relative price\",ylab=\"# Shares\", col=\"red\", type=\"b\")"
   ]
  },
  {
   "cell_type": "markdown",
   "metadata": {
    "slideshow": {
     "slide_type": "fragment"
    }
   },
   "source": [
    "Figure 2: Average book shape over 100,000 events with $\\alpha$ = 1, $\\mu$ = 10, $\\delta$ = 1/5. Note that asymptotic book depth is $\\alpha/\\delta$ = 5."
   ]
  },
  {
   "cell_type": "markdown",
   "metadata": {
    "slideshow": {
     "slide_type": "slide"
    }
   },
   "source": [
    "### Price signal in the  ZI simulation\n",
    "\n",
    "* Even in the ZI model, the shape of the order book allows prediction of price movements.\n",
    "\n",
    "    * Traders really would need to have zero intelligence not to condition on book shape!"
   ]
  },
  {
   "cell_type": "markdown",
   "metadata": {
    "slideshow": {
     "slide_type": "subslide"
    }
   },
   "source": [
    "<h2><img src=\"http://mfe.baruch.cuny.edu/wp-content/uploads/2015/01/asymmetry.png\" align = \"center\" width=750></h2>"
   ]
  },
  {
   "cell_type": "markdown",
   "metadata": {
    "slideshow": {
     "slide_type": "fragment"
    }
   },
   "source": [
    "Figure 3: With one share at best offer, future price change vs size at best bid."
   ]
  },
  {
   "cell_type": "markdown",
   "metadata": {
    "slideshow": {
     "slide_type": "slide"
    }
   },
   "source": [
    "### Further developments in ZI models\n",
    "\n",
    "* [Cont, Stoikov and Talreja]<sup id=\"cite_ref-ContStoikovTalreja\" class=\"reference\"><a href=\"#cite_note-ContStoikovTalreja\"><span>[</span>4<span>]</span></a></sup> analyze a generalized SFGK zero-intelligence (ZI) model as a Markov chain."
   ]
  },
  {
   "cell_type": "markdown",
   "metadata": {
    "slideshow": {
     "slide_type": "subslide"
    }
   },
   "source": [
    "* They show how to compute conditional probabilities using <font color='red'>Laplace transform</font> techniques.  For example:\n",
    "    \n",
    "    * The probability that the mid-price increases at its next move.\n",
    "        \n",
    "        * Depends on the order book imbalance.\n",
    "    \n",
    "    * The probability of executing an order before the mid-price moves.\n",
    "    \n",
    "    * The probability of making the spread.\n",
    "    \n",
    "        * Of interest to <font color='red'>market makers</font>.  Cancel limit orders if price is going to move!\n",
    "  "
   ]
  },
  {
   "cell_type": "markdown",
   "metadata": {
    "slideshow": {
     "slide_type": "slide"
    }
   },
   "source": [
    "  \n",
    "- [Cont, Stoikov and Talreja]<sup id=\"cite_ref-ContStoikovTalreja\" class=\"reference\"><a href=\"#cite_note-ContStoikovTalreja\"><span>[</span>5<span>]</span></a></sup> choose a limit order arrival (\"rain\") distribution and a cancelation distribution (by $\\Delta$) so as to match observed average book shapes for a Japanese stock.\n",
    "    "
   ]
  },
  {
   "cell_type": "markdown",
   "metadata": {
    "slideshow": {
     "slide_type": "slide"
    }
   },
   "source": [
    "### Cont and de Larrard\n",
    "\n",
    "[Cont and de Larrard]<sup id=\"cite_ref-ContLarrard\" class=\"reference\"><a href=\"#cite_note-ContLarrard\"><span>[</span>2<span>]</span></a></sup> consider the following caricature of the ZI model, <font color='red'>appropriate for large tick stocks</font>:\n",
    "\n",
    "<font color='red'>caricature: a picture of a thing in which certain striking characteristics are exaggerated in order to create a comic or grotesque effect.</font>\n",
    "\n",
    "* Only quantities at the best bid and the best ask ($q_b$ and $q_a$ respectively) are considered.\n",
    "\n",
    "\n",
    "* All order sizes are for one unit.  <font color='red'>Cancelations are not proportional to existing quantity.</font>"
   ]
  },
  {
   "cell_type": "markdown",
   "metadata": {
    "slideshow": {
     "slide_type": "subslide"
    }
   },
   "source": [
    "* $q_a$ and $q_b$ are independent.\n",
    "\n",
    "\n",
    "* The price moves down if $q_b \\downarrow 0$ and up if $q_a \\downarrow 0$.\n",
    "\n",
    "\n",
    "* After a price change, $q_a$ and $q_b$ are picked from a stationary distribution of queue sizes, independent of history (which could for example be empirically determined)."
   ]
  },
  {
   "cell_type": "markdown",
   "metadata": {
    "slideshow": {
     "slide_type": "subslide"
    }
   },
   "source": [
    "Formally, \n",
    "$$\n",
    " q_a(t) = N^{LS} _ t - N^{MB} _ t - N^{CA} _ t \\\\\n",
    " q _ b(t) = N ^ {LB} _ t - N^{MS} _ t - N^{CB} _ t \n",
    "$$\n",
    "where \n",
    "\n",
    "* $N_t^{LS}$ and $N_t^{LB}$ are Poisson processes with intensity $\\lambda$ corresponding to limit orders\n",
    "\n",
    "* $N_t^{MS}$ and $N_t^{MB}$ are Poisson processes with intensity $\\mu$ corresponding to market orders\n",
    " \n",
    "* $N_t^{CA}$ and $N_t^{CB}$ are Poisson processes with intensity $\\delta$ corresponding to cancelation of limit orders\n",
    "\n",
    "All the processes are independent."
   ]
  },
  {
   "cell_type": "markdown",
   "metadata": {
    "slideshow": {
     "slide_type": "subslide"
    }
   },
   "source": [
    "Hence, $q_a(t)$ and $q_b(t)$ are compound Poisson processes with intensity $\\Lambda := \\lambda + \\mu + \\delta$ and jump size $J$ distributed as\n",
    "\n",
    "$$\n",
    "J = \\left\\{\\begin{array}{ll}\n",
    "1 & \\mbox{with probability } \\frac{\\lambda}{\\lambda + \\mu + \\delta}; \\\\\n",
    "\\\\\n",
    "-1 & \\mbox{with probability } \\frac{\\mu + \\delta}{\\lambda + \\mu + \\delta}.\n",
    "\\end{array}\\right.\n",
    "$$"
   ]
  },
  {
   "cell_type": "markdown",
   "metadata": {
    "slideshow": {
     "slide_type": "subslide"
    }
   },
   "source": [
    "In a second paper, [Cont and de Larrard]<sup id=\"cite_ref-ContLarrard2\" class=\"reference\"><a href=\"#cite_note-ContLarrard2\"><span>[</span>3<span>]</span></a></sup> derive closed-form asymptotic expressions for the following quantities:\n",
    "\n",
    "* Distribution of duration until the next price move.\n",
    "\n",
    "* Probability of upward move in the price.\n",
    "\n",
    "* Autocorrelation of price changes.\n",
    "\n",
    "* Price volatility.\n"
   ]
  },
  {
   "cell_type": "markdown",
   "metadata": {
    "slideshow": {
     "slide_type": "slide"
    }
   },
   "source": [
    "### Probability of price move up\n",
    "\n",
    "Cont and de Larrard derive the following asymptotic expression assuming a balanced book (a book where the arrival rate of limit orders balances the arrival rates of market orders and cancelations):\n",
    "\n",
    "<font color=\"red\">\n",
    "#### Proposition (Proposition 2 of Cont & de Larrard)\n",
    "The probability $\\phi(n,p)$ that the next price is an increase, conditioned on having $n$ orders at the bid and $p$ orders at the ask is:\n",
    "\n",
    "$$\n",
    "\\phi(n,p)=\\frac{1}{\\pi}\\,\\int_0^\\pi\\,\\left(2-\\cos t-\\sqrt{(2-\\cos t)^2-1}\\right)^p\\,\\frac{\\sin {n\\,t}\\,\\cos \\frac{t}{2}}{\\sin \\frac{t}{2}}\\, dt\n",
    "$$\n",
    "<font color=\"black\">\n",
    "\n",
    "* This leads to a natural expression for microprice in large tick markets!"
   ]
  },
  {
   "cell_type": "markdown",
   "metadata": {
    "slideshow": {
     "slide_type": "slide"
    }
   },
   "source": [
    "### Infinitesimal generator <font color='red'>Note: interpretation of $u$ see next two slides</font>\n",
    "\n",
    "The infinitesimal generator of the (two dimensional) process $q_a(t)$ and $q_b(t)$ is \n",
    "\n",
    "$$\n",
    "\\beas\n",
    "\\mathcal{L} u(x,y) &=& \\lambda [u(x+h,y) + u(x,y+h) - 2u(x,y)] \\\\&&+ (\\mu + \\delta)[u(x-h,y) + u(x,y-h) - 2u(x,y)] \n",
    "\\eeas\n",
    "$$\n",
    "\n",
    "where <font color='red'>$h$ is the tick size.</font>"
   ]
  },
  {
   "cell_type": "markdown",
   "metadata": {
    "slideshow": {
     "slide_type": "subslide"
    }
   },
   "source": [
    "On average, we must have  a balanced order book so that $\\lambda = \\mu + \\delta$. Then $\\lambda = \\mu + \\delta = \\frac\\Lambda2$. $\\mathcal{L}$ becomes\n",
    "\n",
    "$$\n",
    "\\beas\n",
    "\\mathcal{L} u(x,y) &=& \\frac\\Lambda2 \\bigg[u(x+h,y) + u(x,y+h) \\\\&&+ u(x-h,y) + u(x,y-h) - 4 u(x,y)\\bigg].\n",
    "\\eeas\n",
    "$$"
   ]
  },
  {
   "cell_type": "markdown",
   "metadata": {
    "slideshow": {
     "slide_type": "slide"
    }
   },
   "source": [
    "### Boundary value problem for probability of up move\n",
    "\n",
    "Denote $\\tau_a = \\inf\\{t \\geq 0: q_a(t) = 0\\}$ and  $\\tau_b = \\inf\\{t \\geq 0: q_b(t) = 0\\}$. In other words, $\\tau_a$ ($\\tau_b$ respectively) is the first time that the ask (bid respectively) side of the book is depleted.  \n",
    "\n",
    "<font color='green'>Important!</font> Let $u(x,y) = \\PP\\left[\\tau_a \\leq \\tau_b|q_b = x, q_a = y \\right]$. That is, $u$ is the probability that, conditioned on $q_b = x$ and $q_a = y$, the ask side is depleted before the bid side. Consequently, $u$ is the probability that the price moves up."
   ]
  },
  {
   "cell_type": "markdown",
   "metadata": {
    "slideshow": {
     "slide_type": "subslide"
    }
   },
   "source": [
    "Then $u$ satisfies the partial difference equation \n",
    "\n",
    "$$\n",
    "\\beas\n",
    "\\mathcal{L} u(x,y) &=& u(x+h,y) + u(x,y+h) + u(x-h,y) + u(x,y-h) - 4 u(x,y)\\\\ &=& 0, \\quad \\forall x, y > 0\n",
    "\\eeas\n",
    "$$\n",
    "\n",
    "with boundary conditions \n",
    "\n",
    "$$\n",
    "u(x,0) = 1, \\; \\forall x \\geq 0 \\quad \\mbox{and} \\quad u(0,y) = 0, \\; \\forall y \\geq 0.\n",
    "$$"
   ]
  },
  {
   "cell_type": "markdown",
   "metadata": {
    "slideshow": {
     "slide_type": "slide"
    }
   },
   "source": [
    "### A heuristic asymptotic analysis\n",
    "\n",
    "Recall the difference equation for $u$:\n",
    "\n",
    "$$\n",
    "u(x+h,y) + u(x,y+h) + u(x-h,y) + u(x,y-h) - 4 u(x,y) = 0.\n",
    "$$\n",
    "\n",
    "Rewrite the last equation as \n",
    "\n",
    "$$\n",
    "\\beas\n",
    "&&\\frac1{h^2} \\left[u(x+h,y) + u(x-h,y) - 2 u(x,y) \\right] \\\\&&+ \\frac1{h^2} \\left[u(x,y+h) + u(x,y-h) - 2 u(x,y)\\right] = 0.\n",
    "\\eeas\n",
    "$$"
   ]
  },
  {
   "cell_type": "markdown",
   "metadata": {
    "slideshow": {
     "slide_type": "subslide"
    }
   },
   "source": [
    "In the limit, as $h \\to 0$, the difference equation converges to the Laplace equation\n",
    "\n",
    "<a name=\"eq:laplacian\"></a>(1)\n",
    "$$\n",
    "\\Delta u = u_{xx} + u_{yy} = 0.\n",
    "$$\n",
    "\n",
    " - For small $h$, we would expect the solution of this PDE to be approximately equal to the solution of the difference equation.  "
   ]
  },
  {
   "cell_type": "markdown",
   "metadata": {
    "slideshow": {
     "slide_type": "slide"
    }
   },
   "source": [
    "### Probability that next move is up\n",
    "\n",
    "Let $\\phi(x,y)$ be the probability that the next move is up given a bid size of $x$ and an ask size of $y$.  Then $\\phi$ satisfies the Laplace equation [(1)](#eq:laplacian) with boundary conditions with boundary condition $\\phi(x,0) = 1$ and $\\phi(0,y) = 0$. \n",
    "\n",
    "<h2><img src=\"http://mfe.baruch.cuny.edu/wp-content/uploads/2015/01/Laplacian.png\" align = \"center\" width=400></h2>\n"
   ]
  },
  {
   "cell_type": "markdown",
   "metadata": {
    "slideshow": {
     "slide_type": "slide"
    }
   },
   "source": [
    "### Solving the Laplace equation for $\\phi$\n",
    "\n",
    "Rewriting [(1)](#eq:laplacian) in polar coordinates $(r,\\theta)$ gives\n",
    "\n",
    "$$\n",
    "\\Delta \\phi(x,y) =  \\frac{\\p^2 \\phi}{\\p r^2}+\\frac 1 r \\,\\frac{\\p \\phi}{\\p r}+ \\frac 1 {r^2}\\frac{\\p^2 \\phi}{\\p \\theta^2}.\n",
    "$$\n",
    "\n",
    "Radial symmetry gives $\\p_r \\phi = 0$ so this equation simplifies to <font color='red'>(Question: why radial symmetry???)</font>\n",
    "\n",
    "$$\n",
    "\\frac{\\p^2 \\phi}{\\p \\theta^2} = 0.\n",
    "$$\n",
    "\n",
    "with solution \n",
    "$\n",
    "\\phi(r,\\theta)= a \\, \\theta+ b.\n",
    "$"
   ]
  },
  {
   "cell_type": "markdown",
   "metadata": {
    "slideshow": {
     "slide_type": "subslide"
    }
   },
   "source": [
    "Applying the boundary conditions, $\\phi(r,\\pi/2)=0$ and $\\phi(r,0) = 1$ gives\n",
    "\n",
    "$$\n",
    "\\phi(x,y)= \\phi(r,\\theta) = 1-\\frac 2 \\pi \\,\\theta = 1-\\frac 2 \\pi \\,\\arctan \\frac{y}{x}=\\frac 2 \\pi \\,\\arctan \\frac x y.\n",
    "$$"
   ]
  },
  {
   "cell_type": "markdown",
   "metadata": {
    "slideshow": {
     "slide_type": "slide"
    }
   },
   "source": [
    "### Asymptotic vs Cont and de Larrard formula\n",
    "\n",
    "We set $y=1$ and plot $\\phi(x,1)$ vs $x$.\n",
    "\n",
    "<h2><img src=\"http://mfe.baruch.cuny.edu/wp-content/uploads/2015/01/TaiHoVsCont.png\" align = \"center\" width=500></h2>\n",
    "Figure 4: The blue line is simply $\\frac 2 \\pi \\,\\arctan \\frac{x}{y}$; the red dashed line is the Cont and de Larrard formula $\\frac{1}{\\pi}\\,\\int_0^\\pi\\,dt\\,\\left(2-\\cos t-\\sqrt{(2-\\cos t)^2-1}\\right)^y\\,\\frac{\\sin {x\\,t}\\,\\cos \\frac{t}{2}}{\\sin \\frac{t}{2}}$"
   ]
  },
  {
   "cell_type": "markdown",
   "metadata": {
    "slideshow": {
     "slide_type": "slide"
    }
   },
   "source": [
    "### Microprice\n",
    "\n",
    "Now that we have the probability of an up-tick, we may define a quantity which we may consider as an estimate of the <font color='red'>efficient price</font>.\n",
    "\n",
    "Denote the spread by $s$ and the mid-price by $M_t=(B_t+A_t)/2$. <font color='red'>Note: the best bid $B(t)$ and best offer $A(t)$.</font>  Then we may define the  <u><span>* microprice*</span></u> $S_t$   as\n",
    "\n",
    "<a name=\"eq:microprice\"></a>(2)\n",
    "$$\n",
    "S_t = \\text{mid-price} + \\text{half spread} \\times \\text{expected price move}\\\\\n",
    "= M_t + \\frac s 2 \\, \\left\\{2\\,\\phi(q_b,q_a)-1\\right\\}\\nonumber \\quad\\quad\\quad\\quad\\quad\\quad \\\\\n",
    "\\approx M_t + \\frac s 2 \\,\\left\\{\\frac 4\\pi \\,\\arctan \\frac {q_b} {q_a}-1\\right\\}.\\quad\\quad\\quad\\quad\n",
    "$$"
   ]
  },
  {
   "cell_type": "markdown",
   "metadata": {
    "slideshow": {
     "slide_type": "slide"
    }
   },
   "source": [
    "* If $q_b \\ll q_a$, $S_t \\approx M_t- s/2 = B_t$.\n",
    "\n",
    "* If $q_b \\gg q_a$, $S_t \\approx M_t+ s/2 = A_t$."
   ]
  },
  {
   "cell_type": "markdown",
   "metadata": {
    "slideshow": {
     "slide_type": "slide"
    }
   },
   "source": [
    "### Order book imbalance\n",
    "\n",
    "[Gould and Bonart]<sup id=\"cite_ref-BG\" class=\"reference\"><a href=\"#cite_note-BG\"><span>[</span>5<span>]</span></a></sup> define the *order book imbalance*\n",
    "\n",
    "$$\n",
    "I = \\frac{ q_b-q_a}{q_b+q_a}.\n",
    "$$\n",
    "\n",
    "In terms of $I$,  the microprice [(2)](#eq:microprice) becomes\n",
    "\n",
    "\\begin{eqnarray}\n",
    "S_t &\\approx&M_t + \\frac s 2 \\,\\left\\{\\frac 4\\pi \\,\\arctan \\frac {q_b} {q_a}-1\\right\\}\\\\\n",
    "&=&M_t + \\frac s 2 \\,\\frac 4\\pi \\,\\arctan \\frac{ q_b-q_a}{q_b+q_a}\\\\\n",
    "&=&M_t + \\frac s 2 \\,\\frac 4\\pi \\,\\arctan I.\n",
    "\\end{eqnarray}"
   ]
  },
  {
   "cell_type": "markdown",
   "metadata": {
    "slideshow": {
     "slide_type": "subslide"
    }
   },
   "source": [
    "* We see that book imbalance seems to be the appropriate choice of variable in the sense that $S_t$ is linear in $I$ for small $I$.\n",
    "\n",
    "    * Moreover, $I$ is anti-symmetric in $q_b$ and $q_a$."
   ]
  },
  {
   "cell_type": "markdown",
   "metadata": {
    "slideshow": {
     "slide_type": "slide"
    }
   },
   "source": [
    "### Order book imbalance empirically\n",
    "\n",
    "<h2><img src=\"http://mfe.baruch.cuny.edu/wp-content/uploads/2017/01/GouldBonartFig6.png\" align = \"center\" width=900></h2>\n",
    "\n",
    "Figure 5: Empirical probability that the next mid-price moves is up from [Gould and Bonart]<sup id=\"cite_ref-BG\" class=\"reference\"><a href=\"#cite_note-BG\"><span>[</span>6<span>]</span></a></sup>"
   ]
  },
  {
   "cell_type": "markdown",
   "metadata": {
    "slideshow": {
     "slide_type": "slide"
    }
   },
   "source": [
    "### Graph of microprice vs order book imbalance"
   ]
  },
  {
   "cell_type": "code",
   "execution_count": 17,
   "metadata": {
    "collapsed": false,
    "slideshow": {
     "slide_type": "fragment"
    }
   },
   "outputs": [
    {
     "data": {
      "image/png": "[encoded data removed]",
      "text/plain": [
       "plot without title"
      ]
     },
     "metadata": {},
     "output_type": "display_data"
    }
   ],
   "source": [
    "# Figure 6: Microprice vs order book imbalance \n",
    "mPrice <- function(imbalance){4/pi*atan(imbalance)}\n",
    "curve(mPrice(x),from=-1,to=1,col=\"red\",xlab=\"Imbalance (I)\",ylab=\"Microprice/Half-spread\")\n",
    "abline(h=0,lty=2)\n",
    "abline(v=0,lty=2)"
   ]
  },
  {
   "cell_type": "markdown",
   "metadata": {
    "slideshow": {
     "slide_type": "fragment"
    }
   },
   "source": [
    "Figure 6: Microprice as a function of the order book imbalance I\n",
    "\n",
    "* It looks nearly linear!"
   ]
  },
  {
   "cell_type": "markdown",
   "metadata": {
    "slideshow": {
     "slide_type": "slide"
    }
   },
   "source": [
    "### Price signal in the  ZI simulation vs book imbalance <font color='red'>What does this chart say???</font>\n",
    "\n",
    "<h2><img src=\"http://mfe.baruch.cuny.edu/wp-content/uploads/2015/01/asymmetryImbalance.png\" align = \"center\" width=650></h2>\n",
    "Figure 7: With one share at best offer, future price change vs book imbalance"
   ]
  },
  {
   "cell_type": "markdown",
   "metadata": {
    "slideshow": {
     "slide_type": "slide"
    }
   },
   "source": [
    "### Price signal in the  ZI simulation vs microprice <font color='red'>What does this chart say???</font>\n",
    "\n",
    "<h2><img src=\"http://mfe.baruch.cuny.edu/wp-content/uploads/2015/01/asymmetryMicroprice.png\" align = \"center\" width=650></h2>\n",
    "Figure 8: With one share at best offer, future price change vs microprice"
   ]
  },
  {
   "cell_type": "markdown",
   "metadata": {
    "slideshow": {
     "slide_type": "slide"
    }
   },
   "source": [
    "### Avellaneda, Reed and Stoikov\n",
    "\n",
    "[Avellaneda, Reed and Stoikov]<sup id=\"cite_ref-AvellanedaReedStoikov\" class=\"reference\"><a href=\"#cite_note-AvellanedaReedStoikov\"><span>[</span>1<span>]</span></a></sup> make the following observations about size at the best quote in real markets:\n",
    "\n",
    "-  In the zero intelligence (ZI) model, if $q_A$ gets very small relative to $q_B$ the probability that the next price move is up should approach $100\\%$.  \n",
    "    - This is not consistent with empirical observation.\n",
    "    - Avellaneda, Reed and Stoikov (ARS) ascribe this to *hidden liquidity* (this could consist of hidden orders, liquidity on other exchanges via Reg. NMS and so on)."
   ]
  },
  {
   "cell_type": "markdown",
   "metadata": {
    "slideshow": {
     "slide_type": "subslide"
    }
   },
   "source": [
    "- In the ZI model, $q_A$ and $q_B$ are independent.  \n",
    "    - In real markets $q_A$ and $q_B$ are negatively correlated.  Indeed a good approximation is $\\rho_{AB} \\approx -1$.\n",
    "    - They model this by introducing diagonal transitions which cancel an order on one side of the book and add a limit order on the other."
   ]
  },
  {
   "cell_type": "markdown",
   "metadata": {
    "slideshow": {
     "slide_type": "slide"
    }
   },
   "source": [
    "### The Avellaneda, Reed and Stoikov solution\n",
    "\n",
    "\n",
    "Following a similar argument to the derivation of equation (1), we obtain that the probability of an up price move is given by\n",
    "\n",
    "$$\n",
    "\\phi(x,y;H) = u(x+H,y+H)\n",
    "$$\n",
    "where $H$ represents hidden liquidity and $u$ satisfies\n",
    "\n",
    "<a name=\"eq:laplacian2\"></a>(2)\n",
    "$$\n",
    "u_{xx} +\\rho\\,u_{xy}+ u_{yy} = 0.\n",
    "$$\n",
    "\n",
    "$H$ is interpreted as a measure of the information content of the visible <font color='red'>(invisible???)</font>order book.  The smaller $H$ is, the greater the predictive power of size at the best quote."
   ]
  },
  {
   "cell_type": "markdown",
   "metadata": {
    "slideshow": {
     "slide_type": "subslide"
    }
   },
   "source": [
    "The solution is\n",
    "\n",
    "$$\n",
    "u(x,y) = \\frac 1 2 \\left\\{\n",
    "1 + \\frac{\\arctan \\left( \\sqrt{\\frac{1+\\rho}{1-\\rho}} \\frac{x-y}{x+y} \\right)}{\\arctan \\left( \\sqrt{\\frac{1+\\rho}{1-\\rho}} \\right)} \n",
    "\\right\\} .\n",
    "$$"
   ]
  },
  {
   "cell_type": "markdown",
   "metadata": {
    "slideshow": {
     "slide_type": "subslide"
    }
   },
   "source": [
    "We then have the following special cases:\n",
    "\n",
    "$\\rho=0$:\n",
    "\n",
    "\n",
    "$$\n",
    "u(x,y) = \\frac 1 2 \\left\\{\n",
    "1 + \\frac{\\arctan \\left(  \\frac{x-y}{x+y} \\right)}{\\arctan 1} \n",
    "\\right\\} = \\frac 1 2 \\left\\{\n",
    "1 + \\frac{4}{\\pi}\\,\\arctan \\left(  \\frac{x-y}{x+y} \\right)\n",
    "\\right\\}\n",
    "$$\n",
    "which is consistent with our earlier result.\n",
    "\n"
   ]
  },
  {
   "cell_type": "markdown",
   "metadata": {
    "slideshow": {
     "slide_type": "subslide"
    }
   },
   "source": [
    "and in the case $\\rho=-1$, we have the very simple result\n",
    "\n",
    "\n",
    "$$\n",
    "u(x,y) = \\frac{x}{x+y}\n",
    "$$\n",
    "\n",
    "in which case the probability of an up-move is given by\n",
    "\n",
    "$$\n",
    "\\phi(x,y;H) = u(x+H,y+H) = \\frac{x+H}{x+y+2\\,H}.\n",
    "$$\n",
    "\n",
    "The above formula does not approach 1 as $y\\rightarrow 0$, which is the original empirical observation."
   ]
  },
  {
   "cell_type": "markdown",
   "metadata": {
    "slideshow": {
     "slide_type": "slide"
    }
   },
   "source": [
    "### Empirical test\n",
    "\n",
    "- ARS demonstrate that for large tick stocks, this simple model with $\\rho = -1$ successfully reproduces the empirical probability of an up-move.  \n",
    "\n",
    "\n",
    "- $H$ is typically around $15\\%$ of visible liquidity.  \n",
    "\n",
    "\n",
    "- By comparing $H$ for a given stock for various exchanges, we can determine which exchange has the most informative visible order book."
   ]
  },
  {
   "cell_type": "markdown",
   "metadata": {
    "slideshow": {
     "slide_type": "slide"
    }
   },
   "source": [
    "### Empirical estimates of $H$\n",
    "\n",
    "\n",
    "<h2><img src=\"http://mfe.baruch.cuny.edu/wp-content/uploads/2016/01/ARS_Table4.png\" align = \"center\" width=500></h2>\n",
    "\n",
    "Table 1: Hidden liquidity $H$ for four tickers and three exchanges. $s$ stands for spread in ticks."
   ]
  },
  {
   "cell_type": "markdown",
   "metadata": {
    "slideshow": {
     "slide_type": "slide"
    }
   },
   "source": [
    "### Muni-Toke and Yoshida\n",
    "\n",
    "A recent paper by [Muni-Toke and Yoshida]<sup \n",
    "id=\"cite_ref-MTY\" class=\"reference\"><a href=\"#cite_note-MTY\"><span>[</span>7<span>]</span></a></sup> updates the zero-intelligence recipe by making intensities dependent on the state of the order book, consistent with empirical estimates.\n",
    "\n",
    "\n",
    "    \n",
    "- The arrival rate of market orders depends on the spread and the size available at the opposite best quote.\n",
    "\n",
    "- The arrival rate of limit orders depends on the total quantity (up to level 10) available on the same side of the order book.\n",
    "    - Placement of the limit order is determined in a second step according to an empirically estimated distribution.\n",
    "- The arrival rate of cancelations depends again on the size available and then on the position of the order in the queue.\n",
    "    - Orders towards the front of the queue are less likely to be canceled."
   ]
  },
  {
   "cell_type": "markdown",
   "metadata": {
    "slideshow": {
     "slide_type": "slide"
    }
   },
   "source": [
    "### Order placement analysis\n",
    "\n",
    "As discussed in [Huang, Lehalle and Rosenbaum]<sup \n",
    "id=\"cite_ref-HLR\" class=\"reference\"><a href=\"#cite_note-HLR\"><span>[</span>6<span>]</span></a></sup>, a realistic order book simulation can be used to estimate *ex-ante* <font color='red'>(Note: based on forecasts rather than actual results)</font> the performance of order placement strategies.  For example, one could compare\n",
    "\n",
    "- When the mid-price changes, cancel all limit orders and place a market order.\n",
    "- When the best-offer prices changes and we have the only sell order, cancel and join the queue at the next higher price level."
   ]
  },
  {
   "cell_type": "markdown",
   "metadata": {
    "slideshow": {
     "slide_type": "slide"
    }
   },
   "source": [
    "### Summary\n",
    "\n",
    "- The limit order book can be viewed as a complex queuing system.\n",
    "\n",
    "- Even with very simple rules, complex order flow and price dynamics can be generated.\n",
    "\n",
    "- With more realistic rules, zero-intelligence models of the order book can serve as useful tools for comparing the performance of proposed order execution strategies.\n",
    "\n"
   ]
  },
  {
   "cell_type": "markdown",
   "metadata": {
    "slideshow": {
     "slide_type": "slide"
    }
   },
   "source": [
    "### References\n",
    "\n",
    "<br />\n",
    "\n",
    "<div class=\"reflist\" style=\"list-style-type: decimal;\">\n",
    "\n",
    "<ol>\n",
    "\n",
    "\n",
    "    <li id=\"cite_note-AvellanedaReedStoikov\"><span class=\"mw-cite-backlink\"><b><a href=\"#cite_ref-AvellanedaReedStoikov\">^</a></b></span>   Marco Avellaneda, Josh Reed and Sasha Stoikov, Forecasting from level-I quotes in the presence of hidden liquidity,\n",
    "<span>* Alogrithmic Finance*</span>,  <span>**1**</span>(1) 35-43 (2011).</li>\n",
    "\n",
    "  <li id=\"cite_note-ContLarrard\"><span class=\"mw-cite-backlink\"><b><a href=\"#cite_ref-ContLarrard\">^</a></b></span>   Rama Cont and Adrien de Larrard, Price dynamics in a Markovian limit order market, <span>* SIAM J. Finan. Math.*</span>,  <span>** 4**</span>(1) 1-25 (2013).</li>\n",
    "  \n",
    "  <li id=\"cite_note-ContLarrard2\"><span class=\"mw-cite-backlink\"><b><a href=\"#cite_ref-ContLarrard2\">^</a></b></span>   Rama Cont and Adrien de Larrard, Order book dynamics in liquid markets: limit theorems and diffusion approximations, <span>* SSRN*</span>, (2011).</li>\n",
    "  \n",
    "    <li id=\"cite_note-ContStoikovTalreja\"><span class=\"mw-cite-backlink\"><b><a href=\"#cite_ref-ContStoikovTalreja\">^</a></b></span>   Rama Cont, Sasha Stoikov and Rishi Talreja, A stochastic model for order book dynamics,\n",
    "<span>* Operations Research*</span>,  <span>**58**</span> 549-563 (2010).</li>\n",
    "\n",
    "    <li id=\"cite_note-BG\"><span class=\"mw-cite-backlink\"><b><a href=\"#cite_ref-BG\">^</a></b></span> Martin Gould and Julius Bonart, Queue imbalance as a one-tick-ahead price predictor in a limit order book, <span>*Market Microstructure and Liquidity* **2**(2) 1650006 (2016).\n",
    "    \n",
    "     <li id=\"cite_note-HLR\"><span class=\"mw-cite-backlink\"><b><a href=\"#cite_ref-HLR\">^</a></b></span> Weibing Huang, Charles-Albert Lehalle and Mathieu Rosenbaum, Simulating and analyzing order book data: The queue-reactive model, <span>*Journal of the American Statistical Association* **110**(509) 107-122 (2015).\n",
    "    \n",
    "    <li id=\"cite_note-MTY\"><span class=\"mw-cite-backlink\"><b><a href=\"#cite_ref-MTY\">^</a></b></span>   Ioane Muni Toke and Nakahiro Yoshida, Modelling intensities of order flows in a limit order book, <span>*Quantitative Finance*,  forthcoming (2017).</li>\n",
    "    \n",
    "    \n",
    "\n",
    "\n",
    "      \n",
    "  \n",
    "</ol>"
   ]
  }
 ],
 "metadata": {
  "anaconda-cloud": {},
  "celltoolbar": "Slideshow",
  "kernelspec": {
   "display_name": "R",
   "language": "R",
   "name": "ir"
  },
  "language_info": {
   "codemirror_mode": "r",
   "file_extension": ".r",
   "mimetype": "text/x-r-source",
   "name": "R",
   "pygments_lexer": "r",
   "version": "3.3.2"
  }
 },
 "nbformat": 4,
 "nbformat_minor": 0
}
